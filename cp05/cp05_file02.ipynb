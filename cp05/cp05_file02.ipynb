{
 "cells": [
  {
   "cell_type": "markdown",
   "id": "7cb1c88b-1d96-4d3c-9327-3b90b0e3d949",
   "metadata": {},
   "source": [
    "### For Loops"
   ]
  },
  {
   "cell_type": "code",
   "execution_count": 1,
   "id": "c16adf55-2c6e-46e8-b80d-594290991731",
   "metadata": {},
   "outputs": [
    {
     "name": "stdout",
     "output_type": "stream",
     "text": [
      "2\n",
      "3\n",
      "4\n"
     ]
    }
   ],
   "source": [
    "# Creating a tuple and printing each of its values:\n",
    "\n",
    "tp = (2, 3, 4)\n",
    "for i in tp:\n",
    "    print(i)"
   ]
  },
  {
   "cell_type": "code",
   "execution_count": 3,
   "id": "cf5f97ec-3fed-4b38-98f1-679594df60e8",
   "metadata": {},
   "outputs": [
    {
     "name": "stdout",
     "output_type": "stream",
     "text": [
      "Data\n",
      "Science\n",
      "Academy\n"
     ]
    }
   ],
   "source": [
    "# Creating a list and printing each of its values:\n",
    "\n",
    "stringList = ['Data', 'Science', 'Academy']\n",
    "for i in stringList:\n",
    "    print(i)"
   ]
  },
  {
   "cell_type": "code",
   "execution_count": 4,
   "id": "97fbac4e-9296-4b62-af1f-011317bbe8db",
   "metadata": {},
   "outputs": [
    {
     "name": "stdout",
     "output_type": "stream",
     "text": [
      "0\n",
      "1\n",
      "2\n",
      "3\n",
      "4\n"
     ]
    }
   ],
   "source": [
    "# Printing values of a 0 - 5 (exclusive) interval\n",
    "for count in range(0, 5):\n",
    "    print(count)"
   ]
  },
  {
   "cell_type": "code",
   "execution_count": 7,
   "id": "b05461ae-dfc2-4026-a78a-9ad0797090f9",
   "metadata": {},
   "outputs": [
    {
     "name": "stdout",
     "output_type": "stream",
     "text": [
      "0\n",
      "2\n",
      "4\n",
      "6\n",
      "8\n",
      "10\n"
     ]
    }
   ],
   "source": [
    "fillList = []\n",
    "for i in range(11):\n",
    "    fillList.append(i)\n",
    "\n",
    "for num in fillList:\n",
    "    if num % 2 == 0:\n",
    "        print(num)"
   ]
  },
  {
   "cell_type": "code",
   "execution_count": 17,
   "id": "e1351b23-a836-43f9-bc48-a4813136cc21",
   "metadata": {
    "scrolled": true
   },
   "outputs": [
    {
     "name": "stdout",
     "output_type": "stream",
     "text": [
      "0\n",
      "2\n",
      "4\n",
      "6\n",
      "8\n",
      "10\n",
      "12\n",
      "14\n",
      "16\n",
      "18\n",
      "20\n",
      "22\n",
      "24\n",
      "26\n",
      "28\n",
      "30\n",
      "32\n",
      "34\n",
      "36\n",
      "38\n",
      "40\n",
      "42\n",
      "44\n",
      "46\n",
      "48\n",
      "50\n",
      "52\n",
      "54\n",
      "56\n",
      "58\n",
      "60\n",
      "62\n",
      "64\n",
      "66\n",
      "68\n",
      "70\n",
      "72\n",
      "74\n",
      "76\n",
      "78\n",
      "80\n",
      "82\n",
      "84\n",
      "86\n",
      "88\n",
      "90\n",
      "92\n",
      "94\n",
      "96\n",
      "98\n",
      "100\n"
     ]
    }
   ],
   "source": [
    "for i in range(0, 101, 2): # From 0 to 100, every two numbers\n",
    "    print(i)"
   ]
  },
  {
   "cell_type": "code",
   "execution_count": 34,
   "id": "80bed55a-2b82-4f00-8be0-4b17e346f9e0",
   "metadata": {
    "scrolled": true
   },
   "outputs": [
    {
     "name": "stdout",
     "output_type": "stream",
     "text": [
      "p               P\n",
      "y               Y\n",
      "t               T\n",
      "h               H\n",
      "o               O\n",
      "n               N\n",
      "                 \n",
      "i               I\n",
      "s               S\n",
      "                 \n",
      "a               A\n",
      "                 \n",
      "f               F\n",
      "u               U\n",
      "n               N\n",
      "                 \n",
      "p               P\n",
      "r               R\n",
      "o               O\n",
      "g               G\n",
      "r               R\n",
      "a               A\n",
      "m               M\n",
      "m               M\n",
      "i               I\n",
      "n               N\n",
      "g               G\n",
      "                 \n",
      "l               L\n",
      "a               A\n",
      "n               N\n",
      "g               G\n",
      "u               U\n",
      "a               A\n",
      "g               G\n",
      "e               E\n"
     ]
    }
   ],
   "source": [
    "# Strings are also sequences\n",
    "for character in 'python is a fun programming language':\n",
    "    print (f'{character:16}{character.upper()}')"
   ]
  },
  {
   "cell_type": "code",
   "execution_count": 39,
   "id": "7e02957b-d38b-4202-8df6-e9c3f12ec4f2",
   "metadata": {
    "scrolled": true
   },
   "outputs": [
    {
     "name": "stdout",
     "output_type": "stream",
     "text": [
      "===\n",
      "\n",
      " 1\n",
      "\n",
      " 2\n",
      "\n",
      " 3\n",
      "\n",
      "===\n",
      "\n",
      " 2\n",
      "\n",
      " 3\n",
      "\n",
      " 4\n",
      "\n",
      "===\n",
      "\n",
      " 3\n",
      "\n",
      " 4\n",
      "\n",
      " 5\n",
      "\n",
      "===\n",
      "\n",
      " 4\n",
      "\n",
      " 5\n",
      "\n",
      " 6\n",
      "\n",
      "===\n",
      "\n",
      " 5\n",
      "\n",
      " 6\n",
      "\n",
      " 7\n",
      "\n",
      "===\n"
     ]
    }
   ],
   "source": [
    "# For within a For loop\n",
    "list1 = []\n",
    "list2 = []\n",
    "\n",
    "for i in range(5):\n",
    "    list1.append(i)\n",
    "    if (i > 0) and (i < 4):\n",
    "        list2.append(i)\n",
    "\n",
    "print('===')\n",
    "# External loop\n",
    "for item1 in list1:\n",
    "    # Internal loop\n",
    "    for item2 in list2:\n",
    "\n",
    "        print('\\n', item1 + item2)\n",
    "\n",
    "    print('\\n===')"
   ]
  },
  {
   "cell_type": "code",
   "execution_count": null,
   "id": "b641cc0a-3240-4569-a36c-1311f1901f4f",
   "metadata": {},
   "outputs": [],
   "source": []
  }
 ],
 "metadata": {
  "kernelspec": {
   "display_name": "Python 3 (ipykernel)",
   "language": "python",
   "name": "python3"
  },
  "language_info": {
   "codemirror_mode": {
    "name": "ipython",
    "version": 3
   },
   "file_extension": ".py",
   "mimetype": "text/x-python",
   "name": "python",
   "nbconvert_exporter": "python",
   "pygments_lexer": "ipython3",
   "version": "3.12.4"
  }
 },
 "nbformat": 4,
 "nbformat_minor": 5
}
