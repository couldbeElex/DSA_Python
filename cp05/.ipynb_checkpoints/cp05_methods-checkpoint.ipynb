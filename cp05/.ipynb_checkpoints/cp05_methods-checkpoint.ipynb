{
 "cells": [
  {
   "cell_type": "markdown",
   "id": "83b61cd6-e729-4c19-a805-1896f8dbf921",
   "metadata": {},
   "source": [
    "### Methods\n",
    "Everything in Python is an object.\n",
    "Every boejct has methods and attributes.\n",
    "\n",
    "Attributes are the properties of an object.\n",
    "Methods are functions with actions that can be executed in an object."
   ]
  },
  {
   "cell_type": "code",
   "execution_count": 1,
   "id": "7f122763-3c2a-4126-a5ef-8b0d8d25736b",
   "metadata": {},
   "outputs": [
    {
     "data": {
      "text/plain": [
       "list"
      ]
     },
     "execution_count": 1,
     "metadata": {},
     "output_type": "execute_result"
    }
   ],
   "source": [
    "# creating a list\n",
    "list = [100, -2, 12, 65, 0]\n",
    "\n",
    "type(list)"
   ]
  },
  {
   "cell_type": "code",
   "execution_count": 2,
   "id": "f4b0b11b-9498-4525-a154-8b837f160518",
   "metadata": {},
   "outputs": [
    {
     "data": {
      "text/plain": [
       "[100, -2, 12, 65, 0]"
      ]
     },
     "execution_count": 2,
     "metadata": {},
     "output_type": "execute_result"
    }
   ],
   "source": [
    "# verifying methods and attributes\n",
    "list"
   ]
  },
  {
   "cell_type": "code",
   "execution_count": 3,
   "id": "4f3e4103-5f26-41fb-a2b8-261cc4a55de5",
   "metadata": {},
   "outputs": [],
   "source": [
    "# using a method from the object \"list\"\n",
    "list.append(100)"
   ]
  },
  {
   "cell_type": "code",
   "execution_count": 4,
   "id": "71f1f3d6-b75c-4acb-9ae4-42b1f83de5dc",
   "metadata": {},
   "outputs": [
    {
     "name": "stdout",
     "output_type": "stream",
     "text": [
      "[100, -2, 12, 65, 0, 100]\n"
     ]
    }
   ],
   "source": [
    "# printing \"list\"\n",
    "print(list)"
   ]
  },
  {
   "cell_type": "code",
   "execution_count": 5,
   "id": "a98cd6ee-5f74-449a-9af7-2f5d5d01b64a",
   "metadata": {},
   "outputs": [
    {
     "data": {
      "text/plain": [
       "2"
      ]
     },
     "execution_count": 5,
     "metadata": {},
     "output_type": "execute_result"
    }
   ],
   "source": [
    "# using a method from the object \"list\"\n",
    "list.count(100)"
   ]
  },
  {
   "cell_type": "code",
   "execution_count": null,
   "id": "a84b1f02-7182-493c-a5f3-501bd6ad8e7e",
   "metadata": {},
   "outputs": [],
   "source": []
  }
 ],
 "metadata": {
  "kernelspec": {
   "display_name": "Python 3 (ipykernel)",
   "language": "python",
   "name": "python3"
  },
  "language_info": {
   "codemirror_mode": {
    "name": "ipython",
    "version": 3
   },
   "file_extension": ".py",
   "mimetype": "text/x-python",
   "name": "python",
   "nbconvert_exporter": "python",
   "pygments_lexer": "ipython3",
   "version": "3.10.11"
  }
 },
 "nbformat": 4,
 "nbformat_minor": 5
}
