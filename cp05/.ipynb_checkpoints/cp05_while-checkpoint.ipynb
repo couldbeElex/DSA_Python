{
 "cells": [
  {
   "cell_type": "code",
   "execution_count": 1,
   "id": "29794977-022d-45f6-b82b-5ce5db315867",
   "metadata": {},
   "outputs": [
    {
     "name": "stdout",
     "output_type": "stream",
     "text": [
      "0\n",
      "1\n",
      "2\n",
      "3\n",
      "4\n",
      "5\n",
      "6\n",
      "7\n",
      "8\n",
      "9\n"
     ]
    }
   ],
   "source": [
    "value = 0\n",
    "while value < 10: # --- for as long as the condition is met, run code below\n",
    "    print(value)\n",
    "    value = value + 1"
   ]
  },
  {
   "cell_type": "code",
   "execution_count": 2,
   "id": "c38994c1-2cbb-47e8-8656-463f98c397a4",
   "metadata": {},
   "outputs": [],
   "source": [
    "value = 13\n",
    "while value < 10: # ---- when the condition is never met, however, skips code\n",
    "    print(value)\n",
    "    value = value + 1"
   ]
  },
  {
   "cell_type": "raw",
   "id": "59902fc5-f9a8-450c-bed4-c4c3e065122d",
   "metadata": {},
   "source": [
    "'while' loops MUST come to an end; make sure to close 'while' loops by guaranteeing the condition will either 1. eventually no longer be met or 2. cause the code to take a 'break'.\n",
    "\n",
    "in the example above, by incrementing 'value' by one each loop, eventually 'value' exceeds the loop condition (value < 10), therefore forcing the loop to come to a halt.\n",
    "\n",
    "if a condition is always met, a while loop will run ad infinitum, causing memory issues and likely freezing\n",
    "and/or crashing the runtime."
   ]
  },
  {
   "cell_type": "markdown",
   "id": "f68746d7-ac6c-4a1e-aa27-396962dac605",
   "metadata": {},
   "source": [
    "### While and For loops together\n",
    "writing down a code that identifies prime numbers in a sequence while using both while and for loops.\n",
    "\n",
    "we've already done such a code using nested for loops. let's try it differently now"
   ]
  },
  {
   "cell_type": "code",
   "execution_count": null,
   "id": "50f79a86-d238-4cd3-b5ff-cbfcadd2ba88",
   "metadata": {},
   "outputs": [],
   "source": []
  }
 ],
 "metadata": {
  "kernelspec": {
   "display_name": "Python 3 (ipykernel)",
   "language": "python",
   "name": "python3"
  },
  "language_info": {
   "codemirror_mode": {
    "name": "ipython",
    "version": 3
   },
   "file_extension": ".py",
   "mimetype": "text/x-python",
   "name": "python",
   "nbconvert_exporter": "python",
   "pygments_lexer": "ipython3",
   "version": "3.10.11"
  }
 },
 "nbformat": 4,
 "nbformat_minor": 5
}
