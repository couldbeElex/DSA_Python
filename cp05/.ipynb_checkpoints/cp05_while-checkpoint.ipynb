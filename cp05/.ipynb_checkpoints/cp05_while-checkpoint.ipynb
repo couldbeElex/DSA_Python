{
 "cells": [
  {
   "cell_type": "code",
   "execution_count": 1,
   "id": "29794977-022d-45f6-b82b-5ce5db315867",
   "metadata": {},
   "outputs": [
    {
     "name": "stdout",
     "output_type": "stream",
     "text": [
      "0\n",
      "1\n",
      "2\n",
      "3\n",
      "4\n",
      "5\n",
      "6\n",
      "7\n",
      "8\n",
      "9\n"
     ]
    }
   ],
   "source": [
    "value = 0\n",
    "while value < 10: # --- for as long as the condition is met, run code below\n",
    "    print(value)\n",
    "    value = value + 1"
   ]
  },
  {
   "cell_type": "code",
   "execution_count": 2,
   "id": "c38994c1-2cbb-47e8-8656-463f98c397a4",
   "metadata": {},
   "outputs": [],
   "source": [
    "value = 13\n",
    "while value < 10: # ---- when the condition is never met, however, skips code\n",
    "    print(value)\n",
    "    value = value + 1"
   ]
  },
  {
   "cell_type": "raw",
   "id": "59902fc5-f9a8-450c-bed4-c4c3e065122d",
   "metadata": {},
   "source": [
    "'while' loops MUST come to an end; make sure to close 'while' loops by guaranteeing the condition will either 1. eventually no longer be met or 2. cause the code to take a 'break'.\n",
    "\n",
    "in the example above, by incrementing 'value' by one each loop, eventually 'value' exceeds the loop condition (value < 10), therefore forcing the loop to come to a halt.\n",
    "\n",
    "if a condition is always met, a while loop will run ad infinitum, causing memory issues and likely freezing\n",
    "and/or crashing the runtime."
   ]
  },
  {
   "cell_type": "markdown",
   "id": "f68746d7-ac6c-4a1e-aa27-396962dac605",
   "metadata": {},
   "source": [
    "### While and For loops together\n",
    "writing down a code that identifies prime numbers in a sequence while using both while and for loops.\n",
    "\n",
    "we've already done such a code using nested for loops. let's try it differently now"
   ]
  },
  {
   "cell_type": "code",
   "execution_count": 17,
   "id": "50f79a86-d238-4cd3-b5ff-cbfcadd2ba88",
   "metadata": {},
   "outputs": [
    {
     "name": "stdout",
     "output_type": "stream",
     "text": [
      "[2, 3, 5, 7, 11, 13, 17, 19, 23, 29]\n",
      "CPU times: user 243 μs, sys: 18 μs, total: 261 μs\n",
      "Wall time: 256 μs\n"
     ]
    }
   ],
   "source": [
    "%%time\n",
    "# jupyter magic operator. measures how long a cell takes to run\n",
    "\n",
    "primes = []\n",
    "\n",
    "# for each number between 2 and 30,\n",
    "for num in range(2, 31):\n",
    "    # attribute to it that it's a prime, even when it's not\n",
    "    is_prime = True\n",
    "\n",
    "    i = 2\n",
    "    # for as long as the index is lesser or equal than the value above divided by two,\n",
    "    while i <= num // 2:\n",
    "        # if no value remains after dividing the value by the index\n",
    "        if num % i == 0:\n",
    "            # then the value above is, indeed, not a prime\n",
    "            is_prime = False\n",
    "            break\n",
    "        # increments index by 1, continues the loop\n",
    "        i += 1\n",
    "\n",
    "    # if a value survives the check above, adds it to the list\n",
    "    if is_prime: # ---- (equals True)\n",
    "        primes.append(num)\n",
    "\n",
    "print(f'{primes}')"
   ]
  },
  {
   "cell_type": "code",
   "execution_count": 18,
   "id": "42b8b35b-ef1d-4a90-a31b-b90ca0483c54",
   "metadata": {},
   "outputs": [
    {
     "name": "stdout",
     "output_type": "stream",
     "text": [
      "2 is a prime number.\n",
      "3 is a prime number.\n",
      "5 is a prime number.\n",
      "7 is a prime number.\n",
      "11 is a prime number.\n",
      "13 is a prime number.\n",
      "17 is a prime number.\n",
      "19 is a prime number.\n",
      "23 is a prime number.\n",
      "29 is a prime number.\n",
      "CPU times: user 248 μs, sys: 102 μs, total: 350 μs\n",
      "Wall time: 351 μs\n"
     ]
    }
   ],
   "source": [
    "%%time\n",
    "\n",
    "# doing it another way:\n",
    "for i in range(2, 31):\n",
    "    # control variable (determinant)\n",
    "    j = 2\n",
    "    # counter\n",
    "    value = 0\n",
    "    # while loop to verify if said value is a prime\n",
    "    while j < i:\n",
    "        if i % j == 0:\n",
    "            value = 1\n",
    "            j = j + 1\n",
    "        else:\n",
    "            j = j + 1\n",
    "\n",
    "    if value == 0:\n",
    "        print(f'{i} is a prime number.')\n",
    "        value = 0\n",
    "    else:\n",
    "        value = 0"
   ]
  },
  {
   "cell_type": "code",
   "execution_count": null,
   "id": "d1e0ec73-f826-44b1-ab34-e7930c81bc23",
   "metadata": {},
   "outputs": [],
   "source": []
  }
 ],
 "metadata": {
  "kernelspec": {
   "display_name": "Python 3 (ipykernel)",
   "language": "python",
   "name": "python3"
  },
  "language_info": {
   "codemirror_mode": {
    "name": "ipython",
    "version": 3
   },
   "file_extension": ".py",
   "mimetype": "text/x-python",
   "name": "python",
   "nbconvert_exporter": "python",
   "pygments_lexer": "ipython3",
   "version": "3.10.11"
  }
 },
 "nbformat": 4,
 "nbformat_minor": 5
}
