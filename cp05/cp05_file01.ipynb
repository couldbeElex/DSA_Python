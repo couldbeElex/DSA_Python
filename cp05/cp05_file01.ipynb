{
 "cells": [
  {
   "cell_type": "code",
   "execution_count": 9,
   "id": "0faf011d-adc9-4a24-9444-21931c45c376",
   "metadata": {},
   "outputs": [
    {
     "name": "stdout",
     "output_type": "stream",
     "text": [
      "The sentence is true\n"
     ]
    }
   ],
   "source": [
    "# ConditionaL: IF\n",
    "\n",
    "if 5 > 2: # - If 5 is greater than 2, then:\n",
    "    print('The sentence is true') # - run this line"
   ]
  },
  {
   "cell_type": "code",
   "execution_count": 8,
   "id": "dad6a350-1243-4783-aa7e-77df0ceb6a13",
   "metadata": {},
   "outputs": [
    {
     "name": "stdout",
     "output_type": "stream",
     "text": [
      "The sentence is false\n"
     ]
    }
   ],
   "source": [
    "# Conditional: ELSE\n",
    "\n",
    "if 5 < 2:\n",
    "    print('The sentence is true')\n",
    "else: # - if the condition above is not true, then:\n",
    "    print('The sentence is false') # - run this line instead"
   ]
  },
  {
   "cell_type": "code",
   "execution_count": 7,
   "id": "42a21e86-b855-401e-aa06-1f358650fbb7",
   "metadata": {},
   "outputs": [
    {
     "name": "stdout",
     "output_type": "stream",
     "text": [
      "Today will rain\n"
     ]
    }
   ],
   "source": [
    "# Conditional: IF/Else + variables\n",
    "day = 'tuesday'\n",
    "\n",
    "if day == 'monday':\n",
    "    print('Today will be sunny')\n",
    "else:\n",
    "    print('Today will rain')"
   ]
  },
  {
   "cell_type": "code",
   "execution_count": 10,
   "id": "f0142a0c-3775-44d3-a5b6-86b899f2f5bb",
   "metadata": {},
   "outputs": [
    {
     "name": "stdout",
     "output_type": "stream",
     "text": [
      "Today will rain\n"
     ]
    }
   ],
   "source": [
    "# Conditional: ELIF (Else, if)\n",
    "if day == 'monday': # - If this condition is met,\n",
    "    print('Today will be sunny') # - display this message;\n",
    "elif day == 'tuesday': # - otherwise, if this condition is met,\n",
    "    print('Today will rain') # - display this message;\n",
    "else: # - If none of the above is met,\n",
    "    print(f'No weather forecast for {day}') # - display this message instead."
   ]
  },
  {
   "cell_type": "code",
   "execution_count": 11,
   "id": "24842cfa-6955-4148-8127-c51a86283dd0",
   "metadata": {},
   "outputs": [
    {
     "data": {
      "text/plain": [
       "True"
      ]
     },
     "execution_count": 11,
     "metadata": {},
     "output_type": "execute_result"
    }
   ],
   "source": [
    "6 > 3 # Relational: GREATER THAN"
   ]
  },
  {
   "cell_type": "code",
   "execution_count": 12,
   "id": "a0bf94cd-fd58-4b02-8e9d-1824ef496dd3",
   "metadata": {},
   "outputs": [
    {
     "data": {
      "text/plain": [
       "False"
      ]
     },
     "execution_count": 12,
     "metadata": {},
     "output_type": "execute_result"
    }
   ],
   "source": [
    "3 < 2 # Relational: LESSER THAN"
   ]
  },
  {
   "cell_type": "code",
   "execution_count": 22,
   "id": "fafeb0aa-6837-4dec-8399-6081e7b80713",
   "metadata": {},
   "outputs": [
    {
     "data": {
      "text/plain": [
       "True"
      ]
     },
     "execution_count": 22,
     "metadata": {},
     "output_type": "execute_result"
    }
   ],
   "source": [
    "4 >= 4 # Relational: GREATER OR EQUAL THAN\n",
    "\n",
    "2 <= 3 # Relational: GREATER OR LESSER THAN"
   ]
  },
  {
   "cell_type": "code",
   "execution_count": 16,
   "id": "1cacc19f-adbd-45aa-bafd-f1033e8de8c7",
   "metadata": {},
   "outputs": [
    {
     "data": {
      "text/plain": [
       "False"
      ]
     },
     "execution_count": 16,
     "metadata": {},
     "output_type": "execute_result"
    }
   ],
   "source": [
    "5 == 2 # Relational: EQUAL TO"
   ]
  },
  {
   "cell_type": "code",
   "execution_count": 17,
   "id": "242e95f6-7b9f-45d4-bd17-63976782397f",
   "metadata": {},
   "outputs": [
    {
     "name": "stdout",
     "output_type": "stream",
     "text": [
      "Looks like this works!\n"
     ]
    }
   ],
   "source": [
    "if True: # Relational: said condition is TRUE\n",
    "    print('Looks like this works!')"
   ]
  },
  {
   "cell_type": "code",
   "execution_count": 18,
   "id": "52f2d9b2-65b5-4cd6-bddf-b83ab932aea4",
   "metadata": {},
   "outputs": [
    {
     "name": "stdout",
     "output_type": "stream",
     "text": [
      "Everything works!\n"
     ]
    }
   ],
   "source": [
    "if 4 > 3:\n",
    "    print('Everything works!')"
   ]
  },
  {
   "cell_type": "code",
   "execution_count": 25,
   "id": "a1e49085-9228-4c2a-9c5a-ef8217acd271",
   "metadata": {},
   "outputs": [
    {
     "name": "stdout",
     "output_type": "stream",
     "text": [
      "You're legally allowed to drive.\n"
     ]
    }
   ],
   "source": [
    "age = 18\n",
    "if age > 17:\n",
    "    print('You\\'re legally allowed to drive.')"
   ]
  },
  {
   "cell_type": "code",
   "execution_count": 33,
   "id": "f1cf4bb9-03b8-4bba-b20f-74a0d8a4609b",
   "metadata": {},
   "outputs": [
    {
     "name": "stdout",
     "output_type": "stream",
     "text": [
      "Ok Bob, you can come in!\n"
     ]
    }
   ],
   "source": [
    "name = 'bob'\n",
    "if age > 13:\n",
    "    if name == 'bob':\n",
    "        print(f'Ok {name.capitalize()}, you can come in!')\n",
    "    else:\n",
    "        print('Sorry, but you can\\'t come in!')"
   ]
  },
  {
   "cell_type": "code",
   "execution_count": 49,
   "id": "b6eaff4d-1d36-4c82-afdd-355d3e415ad9",
   "metadata": {},
   "outputs": [
    {
     "name": "stdout",
     "output_type": "stream",
     "text": [
      "Ok Bob, you're allowed to come in!\n"
     ]
    }
   ],
   "source": [
    "# Logical: AND (&&)\n",
    "\n",
    "age = 13\n",
    "name = 'bob'\n",
    "if age >= 13 and name.lower() == 'bob': # - BOTH CONDITIONS must be true\n",
    "    print(f'Ok {name.capitalize()}, you\\'re allowed to come in!')"
   ]
  },
  {
   "cell_type": "code",
   "execution_count": 50,
   "id": "551b2937-36f9-47d7-8a94-3be13438b8fa",
   "metadata": {},
   "outputs": [
    {
     "name": "stdout",
     "output_type": "stream",
     "text": [
      "Ok Bob, you're allowed to come in!\n"
     ]
    }
   ],
   "source": [
    "# Logical: OR (||)\n",
    "\n",
    "age = 12\n",
    "name = 'Bob'\n",
    "if (age >= 13) or (name.lower() == 'bob'): # - EITHER CONDITION must be true\n",
    "    print(f'Ok {name.capitalize()}, you\\'re allowed to come in!')"
   ]
  },
  {
   "cell_type": "code",
   "execution_count": 51,
   "id": "46939efa-e220-42f9-833c-8dcf86ba57da",
   "metadata": {},
   "outputs": [
    {
     "name": "stdout",
     "output_type": "stream",
     "text": [
      "This is being displayed because both conditions were met.\n"
     ]
    }
   ],
   "source": [
    "# Logical: NOT (!=)\n",
    "\n",
    "number = 4\n",
    "\n",
    "if not(number > 5) and (number % 2 == 0): # - Condition MUST NOT BE true\n",
    "    print('This is being displayed because both conditions were met.')\n",
    "else:\n",
    "    print('This is being displayed because at least one condition was not met.')"
   ]
  },
  {
   "cell_type": "code",
   "execution_count": 52,
   "id": "78aa2322-7ef4-480a-9749-214d6dc1f1f2",
   "metadata": {},
   "outputs": [
    {
     "name": "stdout",
     "output_type": "stream",
     "text": [
      "This is being displayed either because both former conditions or the latter condition was met.\n"
     ]
    }
   ],
   "source": [
    "number = 4\n",
    "if (not(number > 5) and (number % 2 == 0)) or (number == 4):\n",
    "    # ^ Either BOTH former conditions OR the latter must be met\n",
    "    print('This is being displayed either because both former conditions or the latter condition was met.')"
   ]
  },
  {
   "cell_type": "code",
   "execution_count": 54,
   "id": "b398e88c-6521-4d62-87e5-ad35ffd481df",
   "metadata": {},
   "outputs": [
    {
     "name": "stdout",
     "output_type": "stream",
     "text": [
      "You have passed.\n"
     ]
    }
   ],
   "source": [
    "subject = 'Data Science'\n",
    "grade = 70\n",
    "\n",
    "if subject == 'Data Science' and grade >= 70:\n",
    "    print('You have passed.')\n",
    "else:\n",
    "    print('We\\'re sorry, you might need more study.')"
   ]
  },
  {
   "cell_type": "code",
   "execution_count": 55,
   "id": "f0fd3235-9a90-4cae-8e87-0e10cade58cd",
   "metadata": {},
   "outputs": [
    {
     "name": "stdout",
     "output_type": "stream",
     "text": [
      "We're sorry, you might need more study.\n"
     ]
    }
   ],
   "source": [
    "subject = 'Data Science'\n",
    "grade = 60\n",
    "\n",
    "if subject == 'Data Science' and grade >= 70:\n",
    "    print('You have passed.')\n",
    "else:\n",
    "    print('We\\'re sorry, you might need more study.')"
   ]
  },
  {
   "cell_type": "code",
   "execution_count": 59,
   "id": "fef81951-a81f-4a1a-8432-17894517949a",
   "metadata": {},
   "outputs": [
    {
     "name": "stdout",
     "output_type": "stream",
     "text": [
      "You have passed in Data Science with a grade of 70.\n"
     ]
    }
   ],
   "source": [
    "subject = 'Data Science'\n",
    "grade = 70\n",
    "semester= 2\n",
    "\n",
    "if subject == 'Data Science' and grade >= 70 and semester != 1:\n",
    "    print('You have passed in %s with a grade of %r.' %(subject, grade))\n",
    "else:\n",
    "    print('We\\'re sorry, you might need more study.')"
   ]
  }
 ],
 "metadata": {
  "kernelspec": {
   "display_name": "Python 3 (ipykernel)",
   "language": "python",
   "name": "python3"
  },
  "language_info": {
   "codemirror_mode": {
    "name": "ipython",
    "version": 3
   },
   "file_extension": ".py",
   "mimetype": "text/x-python",
   "name": "python",
   "nbconvert_exporter": "python",
   "pygments_lexer": "ipython3",
   "version": "3.12.4"
  }
 },
 "nbformat": 4,
 "nbformat_minor": 5
}
