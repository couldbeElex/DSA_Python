{
 "cells": [
  {
   "cell_type": "markdown",
   "id": "e18c55f6-a916-40ba-af9c-2c52704a22e1",
   "metadata": {},
   "source": [
    "### Trabalhando com Dicionários"
   ]
  },
  {
   "cell_type": "code",
   "execution_count": 2,
   "id": "36e1c6aa-fbd8-4ba6-869a-6b0fdf30b0bc",
   "metadata": {},
   "outputs": [
    {
     "data": {
      "text/plain": [
       "['Pedro', 24, 'Ana', 22, 'Ronaldo', 26, 'Janaina']"
      ]
     },
     "execution_count": 2,
     "metadata": {},
     "output_type": "execute_result"
    }
   ],
   "source": [
    "estudantes_lst = ['Pedro', 24, 'Ana', 22, 'Ronaldo', 26, 'Janaina']\n",
    "estudantes_lst # - C'est un liste"
   ]
  },
  {
   "cell_type": "code",
   "execution_count": 3,
   "id": "0c379276-ecac-4748-94f7-4d60f30202e0",
   "metadata": {},
   "outputs": [
    {
     "data": {
      "text/plain": [
       "list"
      ]
     },
     "execution_count": 3,
     "metadata": {},
     "output_type": "execute_result"
    }
   ],
   "source": [
    "type(estudantes_lst)"
   ]
  },
  {
   "cell_type": "code",
   "execution_count": 11,
   "id": "6628e4c2-1322-43f5-aa9e-3ea31feff90a",
   "metadata": {},
   "outputs": [],
   "source": [
    "estudantes_dict = {'Pedro':24, 'Ana':22, 'Ronaldo':26, 'Janaína':25} # - Cria um dicionário"
   ]
  },
  {
   "cell_type": "code",
   "execution_count": 12,
   "id": "1cc107db-16d6-4492-8256-5b02ef86c72b",
   "metadata": {},
   "outputs": [
    {
     "data": {
      "text/plain": [
       "dict"
      ]
     },
     "execution_count": 12,
     "metadata": {},
     "output_type": "execute_result"
    }
   ],
   "source": [
    "type(estudantes_dict)"
   ]
  },
  {
   "cell_type": "code",
   "execution_count": 13,
   "id": "c3d33373-b010-4231-873e-0610abe44034",
   "metadata": {},
   "outputs": [
    {
     "data": {
      "text/plain": [
       "24"
      ]
     },
     "execution_count": 13,
     "metadata": {},
     "output_type": "execute_result"
    }
   ],
   "source": [
    "estudantes_dict['Pedro'] # - Chama o valor associado à chave \"Pedro\""
   ]
  },
  {
   "cell_type": "code",
   "execution_count": 14,
   "id": "f28f88f2-7f95-4041-be80-439401e2fcb0",
   "metadata": {},
   "outputs": [],
   "source": [
    "estudantes_dict['Marcelo'] = 23 # - Atribui uma nova chave com um novo valor a um dicionário"
   ]
  },
  {
   "cell_type": "code",
   "execution_count": 15,
   "id": "7373561d-029c-4a72-a46b-8dd577c84cb1",
   "metadata": {},
   "outputs": [
    {
     "data": {
      "text/plain": [
       "23"
      ]
     },
     "execution_count": 15,
     "metadata": {},
     "output_type": "execute_result"
    }
   ],
   "source": [
    "estudantes_dict['Marcelo']"
   ]
  },
  {
   "cell_type": "code",
   "execution_count": 16,
   "id": "d4ff0a82-72d7-4892-b75c-144b27439829",
   "metadata": {},
   "outputs": [],
   "source": [
    "estudantes_dict.clear() # - Limpa os dados no dicionário"
   ]
  },
  {
   "cell_type": "code",
   "execution_count": 17,
   "id": "a520b863-42a6-4d9d-ad80-5b9db64c1d9c",
   "metadata": {},
   "outputs": [
    {
     "data": {
      "text/plain": [
       "{}"
      ]
     },
     "execution_count": 17,
     "metadata": {},
     "output_type": "execute_result"
    }
   ],
   "source": [
    "estudantes_dict"
   ]
  },
  {
   "cell_type": "code",
   "execution_count": 18,
   "id": "cd0c4081-a380-4e3f-be48-7a25c4b497cc",
   "metadata": {},
   "outputs": [],
   "source": [
    "del estudantes_dict # - Limpa o espaço da memória alocado por uma variável, lista ou dicionário"
   ]
  },
  {
   "cell_type": "code",
   "execution_count": 19,
   "id": "f1ff27a5-4d0b-4e0b-9996-43d52cc51db7",
   "metadata": {},
   "outputs": [],
   "source": [
    "estudantes = {'Pedro':24, 'Ana':22, 'Ronaldo':26, 'Janaína':25}"
   ]
  },
  {
   "cell_type": "code",
   "execution_count": 20,
   "id": "e6fa2ca9-ccb7-4a09-a2f6-b3d7aff330d8",
   "metadata": {},
   "outputs": [
    {
     "data": {
      "text/plain": [
       "{'Pedro': 24, 'Ana': 22, 'Ronaldo': 26, 'Janaína': 25}"
      ]
     },
     "execution_count": 20,
     "metadata": {},
     "output_type": "execute_result"
    }
   ],
   "source": [
    "estudantes"
   ]
  },
  {
   "cell_type": "code",
   "execution_count": 21,
   "id": "7dce82d5-641a-4e72-a97e-a2affc07e102",
   "metadata": {},
   "outputs": [
    {
     "data": {
      "text/plain": [
       "4"
      ]
     },
     "execution_count": 21,
     "metadata": {},
     "output_type": "execute_result"
    }
   ],
   "source": [
    "len(estudantes) # - Retorna o tamanho de um dicionário. Conta apenas as chaves relativas."
   ]
  },
  {
   "cell_type": "code",
   "execution_count": 23,
   "id": "f9327988-d6d5-45fa-97fe-6961dff9f288",
   "metadata": {},
   "outputs": [
    {
     "data": {
      "text/plain": [
       "dict_keys(['Pedro', 'Ana', 'Ronaldo', 'Janaína'])"
      ]
     },
     "execution_count": 23,
     "metadata": {},
     "output_type": "execute_result"
    }
   ],
   "source": [
    "estudantes.keys() # - Chama todas a chaves de um dicionário"
   ]
  },
  {
   "cell_type": "code",
   "execution_count": 24,
   "id": "470b33ac-55a9-49e0-8d82-611249e16a29",
   "metadata": {},
   "outputs": [
    {
     "data": {
      "text/plain": [
       "dict_values([24, 22, 26, 25])"
      ]
     },
     "execution_count": 24,
     "metadata": {},
     "output_type": "execute_result"
    }
   ],
   "source": [
    "estudantes.values() # - Chama todos os valores de um dicionário"
   ]
  },
  {
   "cell_type": "code",
   "execution_count": 25,
   "id": "d5fb2047-4ff5-4795-919d-9285196a002e",
   "metadata": {},
   "outputs": [
    {
     "data": {
      "text/plain": [
       "dict_items([('Pedro', 24), ('Ana', 22), ('Ronaldo', 26), ('Janaína', 25)])"
      ]
     },
     "execution_count": 25,
     "metadata": {},
     "output_type": "execute_result"
    }
   ],
   "source": [
    "estudantes.items() # - Retorna todos os itens de um dicionário"
   ]
  },
  {
   "cell_type": "code",
   "execution_count": 26,
   "id": "a861ead1-5a5e-4ab9-9c19-c9efddfe75e2",
   "metadata": {},
   "outputs": [],
   "source": [
    "estudantes2 = {'Camila':27, 'Adriana':28, 'Roberta':26}"
   ]
  },
  {
   "cell_type": "code",
   "execution_count": 27,
   "id": "b257b872-f815-42f1-8926-153ac111f807",
   "metadata": {},
   "outputs": [
    {
     "data": {
      "text/plain": [
       "{'Camila': 27, 'Adriana': 28, 'Roberta': 26}"
      ]
     },
     "execution_count": 27,
     "metadata": {},
     "output_type": "execute_result"
    }
   ],
   "source": [
    "estudantes2"
   ]
  },
  {
   "cell_type": "code",
   "execution_count": 28,
   "id": "acf36860-132e-4fbe-9a3a-965f764e256f",
   "metadata": {},
   "outputs": [],
   "source": [
    "estudantes.update(estudantes2) # - Adiciona os elementos de um dicionário a outro dicionário"
   ]
  },
  {
   "cell_type": "code",
   "execution_count": 29,
   "id": "7eb998fe-f087-4a72-b2ab-4db379d37bd6",
   "metadata": {},
   "outputs": [
    {
     "data": {
      "text/plain": [
       "{'Pedro': 24,\n",
       " 'Ana': 22,\n",
       " 'Ronaldo': 26,\n",
       " 'Janaína': 25,\n",
       " 'Camila': 27,\n",
       " 'Adriana': 28,\n",
       " 'Roberta': 26}"
      ]
     },
     "execution_count": 29,
     "metadata": {},
     "output_type": "execute_result"
    }
   ],
   "source": [
    "estudantes"
   ]
  },
  {
   "cell_type": "code",
   "execution_count": 45,
   "id": "a0a1fa53-d331-4ac6-8316-9c19ca626a35",
   "metadata": {},
   "outputs": [
    {
     "data": {
      "text/plain": [
       "{}"
      ]
     },
     "execution_count": 45,
     "metadata": {},
     "output_type": "execute_result"
    }
   ],
   "source": [
    "dic1 = {}\n",
    "dic1"
   ]
  },
  {
   "cell_type": "code",
   "execution_count": 46,
   "id": "db7e823a-ae4b-48db-8e83-8fd34c180549",
   "metadata": {},
   "outputs": [
    {
     "name": "stdout",
     "output_type": "stream",
     "text": [
      "{'chave_um': 2}\n"
     ]
    }
   ],
   "source": [
    "dic1['chave_um'] = 2 # - Adiciona uma chave ao tipo STRING a um dicionário\n",
    "print(dic1)"
   ]
  },
  {
   "cell_type": "code",
   "execution_count": 47,
   "id": "05a3789d-091a-42c1-b642-76435a26dca8",
   "metadata": {},
   "outputs": [
    {
     "data": {
      "text/plain": [
       "{'chave_um': 2, 10: 5}"
      ]
     },
     "execution_count": 47,
     "metadata": {},
     "output_type": "execute_result"
    }
   ],
   "source": [
    "dic1[10] = 5 # - Adiciona uma chave do tipo INT ao mesmo dicionário\n",
    "dic1 "
   ]
  },
  {
   "cell_type": "code",
   "execution_count": 48,
   "id": "b2f9f247-18c0-4cdf-8700-5a80a77908a3",
   "metadata": {},
   "outputs": [
    {
     "data": {
      "text/plain": [
       "{'chave_um': 2, 10: 5, 9.13: 'Python'}"
      ]
     },
     "execution_count": 48,
     "metadata": {},
     "output_type": "execute_result"
    }
   ],
   "source": [
    "dic1[9.13] = 'Python'\n",
    "dic1"
   ]
  },
  {
   "cell_type": "code",
   "execution_count": 55,
   "id": "13f5885c-fac5-455f-b351-b5868dc5bfc1",
   "metadata": {},
   "outputs": [
    {
     "data": {
      "text/plain": [
       "{'chave_um': 2, 10: 5, 9.13: 'Python', 'teste': 5}"
      ]
     },
     "execution_count": 55,
     "metadata": {},
     "output_type": "execute_result"
    }
   ],
   "source": [
    "dic1['teste'] = 5\n",
    "dic1"
   ]
  },
  {
   "cell_type": "code",
   "execution_count": 56,
   "id": "2bd78cd8-a78e-41c7-b369-a09d1e85cc45",
   "metadata": {},
   "outputs": [
    {
     "data": {
      "text/plain": [
       "{}"
      ]
     },
     "execution_count": 56,
     "metadata": {},
     "output_type": "execute_result"
    }
   ],
   "source": [
    "dic2 = {}\n",
    "dic2 # - Cria-se um novo dicionário"
   ]
  },
  {
   "cell_type": "code",
   "execution_count": 57,
   "id": "7b62651e-b53d-4f98-a92c-8a5ac39f5682",
   "metadata": {},
   "outputs": [
    {
     "data": {
      "text/plain": [
       "{'teste': 10, 'key': 'teste'}"
      ]
     },
     "execution_count": 57,
     "metadata": {},
     "output_type": "execute_result"
    }
   ],
   "source": [
    "dic2['teste'] = 10 # - Cria-se um item de chave 'teste'\n",
    "dic2['key'] = 'teste' # - Cria-se um item de valor 'teste'\n",
    "dic2"
   ]
  },
  {
   "cell_type": "code",
   "execution_count": 61,
   "id": "5356151c-54bd-4691-808d-21efffb1189e",
   "metadata": {},
   "outputs": [
    {
     "data": {
      "text/plain": [
       "{'key1': 'Data Science', 'key2': 10, 'key3': 100}"
      ]
     },
     "execution_count": 61,
     "metadata": {},
     "output_type": "execute_result"
    }
   ],
   "source": [
    "dic3 = {'key1':'Data Science', 'key2':10, 'key3':100}\n",
    "dic3"
   ]
  },
  {
   "cell_type": "code",
   "execution_count": 66,
   "id": "2c1a6fd6-6f2c-41f3-ad45-2c6e5a430138",
   "metadata": {},
   "outputs": [
    {
     "data": {
      "text/plain": [
       "('Data Science', 10, 100)"
      ]
     },
     "execution_count": 66,
     "metadata": {},
     "output_type": "execute_result"
    }
   ],
   "source": [
    "a = dic3['key1']\n",
    "b = dic3['key2']\n",
    "c = dic3['key3']\n",
    "a, b, c # - Imprime os valores registrados pelas chaves do dicionário"
   ]
  },
  {
   "cell_type": "code",
   "execution_count": null,
   "id": "445dd026-2d2d-4a8d-a314-f35b6492b158",
   "metadata": {},
   "outputs": [],
   "source": []
  }
 ],
 "metadata": {
  "kernelspec": {
   "display_name": "Python 3 (ipykernel)",
   "language": "python",
   "name": "python3"
  },
  "language_info": {
   "codemirror_mode": {
    "name": "ipython",
    "version": 3
   },
   "file_extension": ".py",
   "mimetype": "text/x-python",
   "name": "python",
   "nbconvert_exporter": "python",
   "pygments_lexer": "ipython3",
   "version": "3.10.11"
  }
 },
 "nbformat": 4,
 "nbformat_minor": 5
}
