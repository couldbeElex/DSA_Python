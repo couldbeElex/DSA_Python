{
 "cells": [
  {
   "cell_type": "markdown",
   "id": "a24c7ca4-3109-490a-a389-8ac11b0bdf98",
   "metadata": {},
   "source": [
    "## Variáveis - Como usar"
   ]
  },
  {
   "cell_type": "code",
   "execution_count": 1,
   "id": "c2009b24-9103-422a-97de-9bb564d5ed6b",
   "metadata": {},
   "outputs": [],
   "source": [
    "var_teste = 1 # Atribui, a uma variável, um valor x"
   ]
  },
  {
   "cell_type": "code",
   "execution_count": 2,
   "id": "ae69328a-6c90-44ad-8d90-ca5fd11cff34",
   "metadata": {},
   "outputs": [
    {
     "data": {
      "text/plain": [
       "1"
      ]
     },
     "execution_count": 2,
     "metadata": {},
     "output_type": "execute_result"
    }
   ],
   "source": [
    "var_teste # Retorna o valor da variável (funciona como chamado de função)"
   ]
  },
  {
   "cell_type": "code",
   "execution_count": 3,
   "id": "b2eaec2c-ebda-44eb-953a-c715562f3daa",
   "metadata": {},
   "outputs": [
    {
     "name": "stdout",
     "output_type": "stream",
     "text": [
      "1\n"
     ]
    }
   ],
   "source": [
    "print(var_teste) # Usa a função \"print()\" para mostrar o valor da variável"
   ]
  },
  {
   "cell_type": "code",
   "execution_count": 4,
   "id": "420e27be-84e1-4241-9aa2-d0cf11e587e2",
   "metadata": {},
   "outputs": [
    {
     "ename": "NameError",
     "evalue": "name 'emptyVar' is not defined",
     "output_type": "error",
     "traceback": [
      "\u001b[1;31m---------------------------------------------------------------------------\u001b[0m",
      "\u001b[1;31mNameError\u001b[0m                                 Traceback (most recent call last)",
      "Cell \u001b[1;32mIn[4], line 1\u001b[0m\n\u001b[1;32m----> 1\u001b[0m emptyVar\n",
      "\u001b[1;31mNameError\u001b[0m: name 'emptyVar' is not defined"
     ]
    }
   ],
   "source": [
    "emptyVar # Uma variável não declarada na memória não possui valor e não pode ser chamada"
   ]
  },
  {
   "cell_type": "code",
   "execution_count": 6,
   "id": "35b87b9b-e4e1-4dca-84f6-d2b5b7bd9940",
   "metadata": {},
   "outputs": [],
   "source": [
    "var_teste = 2 # Atribui um novo valor a uma variável já existente"
   ]
  },
  {
   "cell_type": "code",
   "execution_count": 7,
   "id": "3843b521-4229-44ba-b3d7-140e12d6de37",
   "metadata": {},
   "outputs": [
    {
     "data": {
      "text/plain": [
       "2"
      ]
     },
     "execution_count": 7,
     "metadata": {},
     "output_type": "execute_result"
    }
   ],
   "source": [
    "var_teste"
   ]
  },
  {
   "cell_type": "code",
   "execution_count": 8,
   "id": "9d513c3a-6ab9-4c58-87eb-45ea155f9069",
   "metadata": {},
   "outputs": [
    {
     "data": {
      "text/plain": [
       "int"
      ]
     },
     "execution_count": 8,
     "metadata": {},
     "output_type": "execute_result"
    }
   ],
   "source": [
    "type(var_teste) # Usa a função \"type()\" para mostrar o tipo da variável"
   ]
  },
  {
   "cell_type": "code",
   "execution_count": 11,
   "id": "3f1f9b5a-4612-4ebc-b015-26f17a83d4b2",
   "metadata": {},
   "outputs": [],
   "source": [
    "var_teste = 9.5 # Variáveis possuem tipos dinâmicos; Python é fracamente tipada"
   ]
  },
  {
   "cell_type": "code",
   "execution_count": 10,
   "id": "cd109b84-5b42-43cd-8b8a-4331f189571a",
   "metadata": {},
   "outputs": [
    {
     "data": {
      "text/plain": [
       "float"
      ]
     },
     "execution_count": 10,
     "metadata": {},
     "output_type": "execute_result"
    }
   ],
   "source": [
    "type(var_teste)"
   ]
  },
  {
   "cell_type": "code",
   "execution_count": 12,
   "id": "40b42563-7929-4e74-ac4b-99deebb62494",
   "metadata": {},
   "outputs": [
    {
     "data": {
      "text/plain": [
       "1"
      ]
     },
     "execution_count": 12,
     "metadata": {},
     "output_type": "execute_result"
    }
   ],
   "source": [
    "x = 1\n",
    "x"
   ]
  },
  {
   "cell_type": "markdown",
   "id": "459b1bfc-2c48-4f2d-815f-7d837678d06d",
   "metadata": {},
   "source": [
    "### Declarações e Operações Multiplas"
   ]
  },
  {
   "cell_type": "code",
   "execution_count": 15,
   "id": "6cb9c5aa-1b23-461c-9a3b-4bd7e8d15d2f",
   "metadata": {},
   "outputs": [],
   "source": [
    "pessoa1, pessoa2, pessoa3 = 'Bob', 'Maria', 'Ana'   # As variáveis podem ser declaradas todas em \n",
    "                                                    # uma só linha, na ordem especificada"
   ]
  },
  {
   "cell_type": "code",
   "execution_count": 16,
   "id": "77654c15-8b2a-4cdb-9f1e-4c5e9b96cadf",
   "metadata": {},
   "outputs": [
    {
     "data": {
      "text/plain": [
       "'Bob'"
      ]
     },
     "execution_count": 16,
     "metadata": {},
     "output_type": "execute_result"
    }
   ],
   "source": [
    "pessoa1"
   ]
  },
  {
   "cell_type": "code",
   "execution_count": 17,
   "id": "51a79f5e-895b-4907-bd32-55225086031c",
   "metadata": {},
   "outputs": [
    {
     "data": {
      "text/plain": [
       "'Maria'"
      ]
     },
     "execution_count": 17,
     "metadata": {},
     "output_type": "execute_result"
    }
   ],
   "source": [
    "pessoa2"
   ]
  },
  {
   "cell_type": "code",
   "execution_count": 18,
   "id": "d9e15331-7fa7-419a-8cb4-43ea713be07a",
   "metadata": {},
   "outputs": [
    {
     "data": {
      "text/plain": [
       "'Ana'"
      ]
     },
     "execution_count": 18,
     "metadata": {},
     "output_type": "execute_result"
    }
   ],
   "source": [
    "pessoa3"
   ]
  },
  {
   "cell_type": "code",
   "execution_count": 19,
   "id": "0b497731-531b-4bd9-925b-a1c46311f891",
   "metadata": {},
   "outputs": [],
   "source": [
    "fruta1 = fruta2 = fruta3 = 'Melancia' # Uma variável se atribui do valor de outra.\n",
    "                                      # Todas têm o mesmo valor."
   ]
  },
  {
   "cell_type": "code",
   "execution_count": 20,
   "id": "556c0a8b-ae83-4fb4-9eca-2e76dffe4ea6",
   "metadata": {},
   "outputs": [
    {
     "data": {
      "text/plain": [
       "'Melancia'"
      ]
     },
     "execution_count": 20,
     "metadata": {},
     "output_type": "execute_result"
    }
   ],
   "source": [
    "fruta1"
   ]
  },
  {
   "cell_type": "code",
   "execution_count": 21,
   "id": "cbb16915-733a-4dd6-9e2f-da44e5144ee7",
   "metadata": {},
   "outputs": [
    {
     "data": {
      "text/plain": [
       "'Melancia'"
      ]
     },
     "execution_count": 21,
     "metadata": {},
     "output_type": "execute_result"
    }
   ],
   "source": [
    "fruta2"
   ]
  },
  {
   "cell_type": "code",
   "execution_count": 22,
   "id": "153ef955-3d1e-4886-b2a2-c2ed634af916",
   "metadata": {},
   "outputs": [
    {
     "data": {
      "text/plain": [
       "'Melancia'"
      ]
     },
     "execution_count": 22,
     "metadata": {},
     "output_type": "execute_result"
    }
   ],
   "source": [
    "fruta3"
   ]
  },
  {
   "cell_type": "code",
   "execution_count": 23,
   "id": "383b6c6c-0a0f-47b3-8759-2f16f6173552",
   "metadata": {},
   "outputs": [
    {
     "ename": "NameError",
     "evalue": "name 'Fruta1' is not defined",
     "output_type": "error",
     "traceback": [
      "\u001b[1;31m---------------------------------------------------------------------------\u001b[0m",
      "\u001b[1;31mNameError\u001b[0m                                 Traceback (most recent call last)",
      "Cell \u001b[1;32mIn[23], line 1\u001b[0m\n\u001b[1;32m----> 1\u001b[0m Fruta1\n",
      "\u001b[1;31mNameError\u001b[0m: name 'Fruta1' is not defined"
     ]
    }
   ],
   "source": [
    "Fruta1 # Python é uma linguagem CASE-SENSITIVE. Essa variável não foi declarada - o F é maiúsculo."
   ]
  },
  {
   "cell_type": "markdown",
   "id": "a5924ff1-7ad6-41d2-b020-12e619b0fca4",
   "metadata": {},
   "source": [
    "***\n",
    "#### Pode-se usar letras, números e dashes em nomes de variáveis, mas não se pode começar com números.\n",
    "***"
   ]
  },
  {
   "cell_type": "code",
   "execution_count": 24,
   "id": "a78713cf-66c0-4cd3-8812-b774f99b5f54",
   "metadata": {},
   "outputs": [],
   "source": [
    "x1 = 50 # Variável x1 recebe a atribuição do numero inteiro 50."
   ]
  },
  {
   "cell_type": "code",
   "execution_count": 25,
   "id": "bb15cfb1-a550-4dea-a033-d9a4625d39c8",
   "metadata": {},
   "outputs": [
    {
     "data": {
      "text/plain": [
       "50"
      ]
     },
     "execution_count": 25,
     "metadata": {},
     "output_type": "execute_result"
    }
   ],
   "source": [
    "x1"
   ]
  },
  {
   "cell_type": "code",
   "execution_count": 26,
   "id": "6b8ebc40-38cf-4e8c-b148-bebb47656021",
   "metadata": {},
   "outputs": [
    {
     "ename": "SyntaxError",
     "evalue": "invalid decimal literal (3792387416.py, line 1)",
     "output_type": "error",
     "traceback": [
      "\u001b[1;36m  Cell \u001b[1;32mIn[26], line 1\u001b[1;36m\u001b[0m\n\u001b[1;33m    1x = 50 # Variável não é criada nem declarada - note que a variável começa com um numero.\u001b[0m\n\u001b[1;37m    ^\u001b[0m\n\u001b[1;31mSyntaxError\u001b[0m\u001b[1;31m:\u001b[0m invalid decimal literal\n"
     ]
    }
   ],
   "source": [
    "1x = 50 # Variável não é criada nem declarada - note que a variável começa com um numero."
   ]
  },
  {
   "cell_type": "markdown",
   "id": "26d7f2dd-e3ad-4437-8146-a7bcce40870b",
   "metadata": {},
   "source": [
    "***\n",
    "#### Assim como em outras linguagens de programação, não se pode usar termos reservados da linguagem como nome de variável.\n",
    "***"
   ]
  },
  {
   "cell_type": "raw",
   "id": "08e3fa84-5d25-4c45-9399-36aad5b69cb5",
   "metadata": {},
   "source": [
    "Exemplos: \n",
    "• False                   • from                    • or\n",
    "• class                   • nonlocal                • yield\n",
    "• finally                 • while                   • assert\n",
    "• is                      • and                     • else\n",
    "• return                  • del                     • import\n",
    "• None                    • global                  • pass\n",
    "• continue                • not                     • break\n",
    "• for                     • with                    • except\n",
    "• lambda                  • as                      • in\n",
    "• try                     • elif                    • raise\n",
    "• True                    • if                      • else"
   ]
  },
  {
   "cell_type": "code",
   "execution_count": 27,
   "id": "e18d3bbb-bc9b-4f92-b227-5bccc9a2c508",
   "metadata": {},
   "outputs": [
    {
     "ename": "SyntaxError",
     "evalue": "invalid syntax (2606266982.py, line 1)",
     "output_type": "error",
     "traceback": [
      "\u001b[1;36m  Cell \u001b[1;32mIn[27], line 1\u001b[1;36m\u001b[0m\n\u001b[1;33m    else = 1 # Um termo reservado não pode ser declarado como variável. Retorna erro.\u001b[0m\n\u001b[1;37m    ^\u001b[0m\n\u001b[1;31mSyntaxError\u001b[0m\u001b[1;31m:\u001b[0m invalid syntax\n"
     ]
    }
   ],
   "source": [
    "else = 1 # Um termo reservado não pode ser declarado como variável. Retorna erro."
   ]
  },
  {
   "cell_type": "markdown",
   "id": "d22762fa-6d63-429c-8b9e-6f5bb3712683",
   "metadata": {},
   "source": [
    "### Variáveis atribuídas a outras Variáveis e a ordem dos Operadores"
   ]
  },
  {
   "cell_type": "code",
   "execution_count": 10,
   "id": "2ed59710-7833-41bc-bd3b-de2d9b7adf51",
   "metadata": {},
   "outputs": [],
   "source": [
    "largura = 2 # a = x ; Atribui o valor \"x\" à variável \"a\""
   ]
  },
  {
   "cell_type": "code",
   "execution_count": 2,
   "id": "fc4edee2-dee5-43d4-9afd-d1a22cb7f362",
   "metadata": {},
   "outputs": [],
   "source": [
    "altura = 4"
   ]
  },
  {
   "cell_type": "code",
   "execution_count": 4,
   "id": "816e06ef-9360-4c68-9c2d-ea1be8579370",
   "metadata": {},
   "outputs": [
    {
     "data": {
      "text/plain": [
       "8"
      ]
     },
     "execution_count": 4,
     "metadata": {},
     "output_type": "execute_result"
    }
   ],
   "source": [
    "area = largura * altura # Multiplica dois valores atribuídos às variáveis\n",
    "area"
   ]
  },
  {
   "cell_type": "code",
   "execution_count": 5,
   "id": "293d39cf-a527-4d9e-b0a9-cade99ecf66e",
   "metadata": {},
   "outputs": [
    {
     "data": {
      "text/plain": [
       "12"
      ]
     },
     "execution_count": 5,
     "metadata": {},
     "output_type": "execute_result"
    }
   ],
   "source": [
    "perimetro = 2 * largura + 2 * altura # Realiza o cálculo de acordo com a prioridade de operação\n",
    "perimetro"
   ]
  },
  {
   "cell_type": "code",
   "execution_count": 8,
   "id": "5dd14782-cb68-47b1-9afb-41415a31ba93",
   "metadata": {},
   "outputs": [
    {
     "data": {
      "text/plain": [
       "32"
      ]
     },
     "execution_count": 8,
     "metadata": {},
     "output_type": "execute_result"
    }
   ],
   "source": [
    "perimetro = 2 * (largura + 2) * altura # A ordem dos operadores é a mesma seguida na Matemática\n",
    "perimetro"
   ]
  },
  {
   "cell_type": "markdown",
   "id": "7934d625-d6ee-496b-96d7-13173f76100b",
   "metadata": {},
   "source": [
    "### MUITO IMPORTANTE: Concatenação de Variáveis"
   ]
  },
  {
   "cell_type": "code",
   "execution_count": 11,
   "id": "1bfe77b0-12f5-4020-86f0-1930ffcfeeff",
   "metadata": {},
   "outputs": [],
   "source": [
    "nome = \"Bob\" # Atribui uma string, \"Bob\", a uma variável \"nome\""
   ]
  },
  {
   "cell_type": "code",
   "execution_count": 12,
   "id": "220b05dc-335f-44cb-bc4a-9ff82f4f6a69",
   "metadata": {},
   "outputs": [],
   "source": [
    "sobrenome = \"Marley\""
   ]
  },
  {
   "cell_type": "code",
   "execution_count": 17,
   "id": "73a120c4-9012-4456-b99d-e535e7462e33",
   "metadata": {},
   "outputs": [
    {
     "data": {
      "text/plain": [
       "'Bob Marley'"
      ]
     },
     "execution_count": 17,
     "metadata": {},
     "output_type": "execute_result"
    }
   ],
   "source": [
    "fullName = nome + \" \" + sobrenome # Concatena \"nome\", um espaço \" \" e \"sobrenome\" em uma só String\n",
    "fullName"
   ]
  },
  {
   "cell_type": "code",
   "execution_count": null,
   "id": "19b3ab7b-c589-4d79-be09-5324db35cc77",
   "metadata": {},
   "outputs": [],
   "source": []
  }
 ],
 "metadata": {
  "kernelspec": {
   "display_name": "Python 3 (ipykernel)",
   "language": "python",
   "name": "python3"
  },
  "language_info": {
   "codemirror_mode": {
    "name": "ipython",
    "version": 3
   },
   "file_extension": ".py",
   "mimetype": "text/x-python",
   "name": "python",
   "nbconvert_exporter": "python",
   "pygments_lexer": "ipython3",
   "version": "3.12.4"
  }
 },
 "nbformat": 4,
 "nbformat_minor": 5
}
