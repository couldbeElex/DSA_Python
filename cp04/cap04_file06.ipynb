{
 "cells": [
  {
   "cell_type": "markdown",
   "id": "de203c3f-7756-4bf3-a220-119fe0739b2c",
   "metadata": {},
   "source": [
    "### Trabalhando com Tuplas"
   ]
  },
  {
   "cell_type": "code",
   "execution_count": 9,
   "id": "8c9ea44c-f3ca-4391-9bd6-0fd86d19cb3b",
   "metadata": {},
   "outputs": [
    {
     "data": {
      "text/plain": [
       "('Geografia', '23', 'Elefantes', 9.8, 'Python')"
      ]
     },
     "execution_count": 9,
     "metadata": {},
     "output_type": "execute_result"
    }
   ],
   "source": [
    "# Criando uma tupla\n",
    "tupla1 = ('Geografia', '23', 'Elefantes', 9.8, 'Python')\n",
    "\n",
    "tupla1"
   ]
  },
  {
   "cell_type": "code",
   "execution_count": 10,
   "id": "f4e6669f-69f7-49d5-995f-00ee76dbee69",
   "metadata": {},
   "outputs": [
    {
     "ename": "AttributeError",
     "evalue": "'tuple' object has no attribute 'append'",
     "output_type": "error",
     "traceback": [
      "\u001b[1;31m---------------------------------------------------------------------------\u001b[0m",
      "\u001b[1;31mAttributeError\u001b[0m                            Traceback (most recent call last)",
      "Cell \u001b[1;32mIn[10], line 1\u001b[0m\n\u001b[1;32m----> 1\u001b[0m tupla1\u001b[38;5;241m.\u001b[39mappend(\u001b[38;5;124m'\u001b[39m\u001b[38;5;124mChocolate\u001b[39m\u001b[38;5;124m'\u001b[39m)\n",
      "\u001b[1;31mAttributeError\u001b[0m: 'tuple' object has no attribute 'append'"
     ]
    }
   ],
   "source": [
    "tupla1.append('Chocolate') # - Tupla não permite a adição de itens"
   ]
  },
  {
   "cell_type": "code",
   "execution_count": 11,
   "id": "d3ae1d83-a8f6-4d89-8f31-71e603cdac09",
   "metadata": {},
   "outputs": [
    {
     "ename": "TypeError",
     "evalue": "'tuple' object does not support item deletion",
     "output_type": "error",
     "traceback": [
      "\u001b[1;31m---------------------------------------------------------------------------\u001b[0m",
      "\u001b[1;31mTypeError\u001b[0m                                 Traceback (most recent call last)",
      "Cell \u001b[1;32mIn[11], line 1\u001b[0m\n\u001b[1;32m----> 1\u001b[0m \u001b[38;5;28;01mdel\u001b[39;00m tupla1[\u001b[38;5;124m'\u001b[39m\u001b[38;5;124mElefante\u001b[39m\u001b[38;5;124m'\u001b[39m]\n",
      "\u001b[1;31mTypeError\u001b[0m: 'tuple' object does not support item deletion"
     ]
    }
   ],
   "source": [
    "del tupla1['Elefante'] # - Tupla não permite a remoção de itens"
   ]
  },
  {
   "cell_type": "code",
   "execution_count": 12,
   "id": "43c92255-e8bd-4716-9dd1-4ec4817a2914",
   "metadata": {},
   "outputs": [
    {
     "data": {
      "text/plain": [
       "'Chocolate'"
      ]
     },
     "execution_count": 12,
     "metadata": {},
     "output_type": "execute_result"
    }
   ],
   "source": [
    "tupla1 = ('Chocolate') # - Tuplas podem ter um único item\n",
    "\n",
    "tupla1"
   ]
  },
  {
   "cell_type": "code",
   "execution_count": 13,
   "id": "1b30dd8a-89ea-4010-8318-8ccbbd5a2015",
   "metadata": {},
   "outputs": [
    {
     "data": {
      "text/plain": [
       "'Geografia'"
      ]
     },
     "execution_count": 13,
     "metadata": {},
     "output_type": "execute_result"
    }
   ],
   "source": [
    "tupla1 = ('Geografia', '23', 'Elefantes', 9.8, 'Python')\n",
    "\n",
    "tupla1[0] # - Os chamados são indexados como em arrays"
   ]
  },
  {
   "cell_type": "code",
   "execution_count": 15,
   "id": "bbc89af7-8138-411e-94f7-2c08820dfe3a",
   "metadata": {},
   "outputs": [
    {
     "data": {
      "text/plain": [
       "5"
      ]
     },
     "execution_count": 15,
     "metadata": {},
     "output_type": "execute_result"
    }
   ],
   "source": [
    "len(tupla1) # - Length, splicing e o índice funcionam como arrays"
   ]
  },
  {
   "cell_type": "code",
   "execution_count": 17,
   "id": "a883c856-5315-4634-ac59-93302654eed9",
   "metadata": {},
   "outputs": [
    {
     "data": {
      "text/plain": [
       "('Elefantes', 9.8, 'Python')"
      ]
     },
     "execution_count": 17,
     "metadata": {},
     "output_type": "execute_result"
    }
   ],
   "source": [
    "tupla1[2:]"
   ]
  },
  {
   "cell_type": "code",
   "execution_count": 19,
   "id": "5751ba4e-7abf-4307-b7d6-02de6a3b60f3",
   "metadata": {},
   "outputs": [
    {
     "data": {
      "text/plain": [
       "4"
      ]
     },
     "execution_count": 19,
     "metadata": {},
     "output_type": "execute_result"
    }
   ],
   "source": [
    "tupla1.index('Python')"
   ]
  },
  {
   "cell_type": "code",
   "execution_count": 20,
   "id": "61d60e38-df8a-4169-9bb5-18ae6173bcea",
   "metadata": {},
   "outputs": [
    {
     "ename": "TypeError",
     "evalue": "'tuple' object does not support item assignment",
     "output_type": "error",
     "traceback": [
      "\u001b[1;31m---------------------------------------------------------------------------\u001b[0m",
      "\u001b[1;31mTypeError\u001b[0m                                 Traceback (most recent call last)",
      "Cell \u001b[1;32mIn[20], line 1\u001b[0m\n\u001b[1;32m----> 1\u001b[0m tupla1[\u001b[38;5;241m1\u001b[39m] \u001b[38;5;241m=\u001b[39m \u001b[38;5;241m21\u001b[39m\n",
      "\u001b[1;31mTypeError\u001b[0m: 'tuple' object does not support item assignment"
     ]
    }
   ],
   "source": [
    "tupla1[1] = 21 # - Tuplas são imutáveis. Não podem ter valores adicionados, removidos ou mudados."
   ]
  },
  {
   "cell_type": "code",
   "execution_count": 22,
   "id": "c9d46045-85bd-49b6-8e11-a17ae5c6b73c",
   "metadata": {},
   "outputs": [
    {
     "data": {
      "text/plain": [
       "('A', 'B', 'C')"
      ]
     },
     "execution_count": 22,
     "metadata": {},
     "output_type": "execute_result"
    }
   ],
   "source": [
    "t2 = ('A', 'B', 'C')\n",
    "\n",
    "t2"
   ]
  },
  {
   "cell_type": "code",
   "execution_count": 23,
   "id": "dc2ef586-4021-4cc5-a183-742726cfe421",
   "metadata": {},
   "outputs": [
    {
     "ename": "TypeError",
     "evalue": "'tuple' object does not support item assignment",
     "output_type": "error",
     "traceback": [
      "\u001b[1;31m---------------------------------------------------------------------------\u001b[0m",
      "\u001b[1;31mTypeError\u001b[0m                                 Traceback (most recent call last)",
      "Cell \u001b[1;32mIn[23], line 1\u001b[0m\n\u001b[1;32m----> 1\u001b[0m t2[\u001b[38;5;241m0\u001b[39m] \u001b[38;5;241m=\u001b[39m \u001b[38;5;124m'\u001b[39m\u001b[38;5;124mD\u001b[39m\u001b[38;5;124m'\u001b[39m\n",
      "\u001b[1;31mTypeError\u001b[0m: 'tuple' object does not support item assignment"
     ]
    }
   ],
   "source": [
    "t2[0] = 'D'"
   ]
  },
  {
   "cell_type": "code",
   "execution_count": 28,
   "id": "5d8b3e30-0ded-4e28-a3ae-8a171993150c",
   "metadata": {},
   "outputs": [
    {
     "data": {
      "text/plain": [
       "list"
      ]
     },
     "execution_count": 28,
     "metadata": {},
     "output_type": "execute_result"
    }
   ],
   "source": [
    "t2_list = list(t2) # - Cria uma lista que retém os valores de uma tupla\n",
    "\n",
    "type(t2_list)"
   ]
  },
  {
   "cell_type": "code",
   "execution_count": 29,
   "id": "c42631a8-d7c8-4248-94ba-6a1b13d0ab71",
   "metadata": {},
   "outputs": [
    {
     "data": {
      "text/plain": [
       "['A', 'B', 'C']"
      ]
     },
     "execution_count": 29,
     "metadata": {},
     "output_type": "execute_result"
    }
   ],
   "source": [
    "t2_list"
   ]
  },
  {
   "cell_type": "code",
   "execution_count": 30,
   "id": "16987533-e4b4-43eb-93b1-60967c872ace",
   "metadata": {},
   "outputs": [
    {
     "data": {
      "text/plain": [
       "['A', 'B', 'C', 'D']"
      ]
     },
     "execution_count": 30,
     "metadata": {},
     "output_type": "execute_result"
    }
   ],
   "source": [
    "t2_list.append('D') # - Adiciona à LISTA o valor 'D'\n",
    "\n",
    "t2_list"
   ]
  },
  {
   "cell_type": "code",
   "execution_count": 31,
   "id": "6342ea70-b9c8-4f80-9e80-7123b0b6dbff",
   "metadata": {},
   "outputs": [
    {
     "data": {
      "text/plain": [
       "('A', 'B', 'C', 'D')"
      ]
     },
     "execution_count": 31,
     "metadata": {},
     "output_type": "execute_result"
    }
   ],
   "source": [
    "t2 = tuple(t2_list) # - Converte um array em tupla e salva em uma variável.\n",
    "\n",
    "t2"
   ]
  },
  {
   "cell_type": "code",
   "execution_count": null,
   "id": "ca156e03-9b32-4932-bb2e-07e1cbbcae00",
   "metadata": {},
   "outputs": [],
   "source": []
  }
 ],
 "metadata": {
  "kernelspec": {
   "display_name": "Python 3 (ipykernel)",
   "language": "python",
   "name": "python3"
  },
  "language_info": {
   "codemirror_mode": {
    "name": "ipython",
    "version": 3
   },
   "file_extension": ".py",
   "mimetype": "text/x-python",
   "name": "python",
   "nbconvert_exporter": "python",
   "pygments_lexer": "ipython3",
   "version": "3.10.11"
  }
 },
 "nbformat": 4,
 "nbformat_minor": 5
}
