{
 "cells": [
  {
   "cell_type": "markdown",
   "id": "cb525122-b016-4a98-98bd-a0daecab12e4",
   "metadata": {},
   "source": [
    "### Operações Aritméticas"
   ]
  },
  {
   "cell_type": "code",
   "execution_count": 1,
   "id": "4c28ff6f-0e98-46c2-933f-cf90b7440824",
   "metadata": {},
   "outputs": [
    {
     "data": {
      "text/plain": [
       "8"
      ]
     },
     "execution_count": 1,
     "metadata": {},
     "output_type": "execute_result"
    }
   ],
   "source": [
    "# Soma\n",
    "4 + 4"
   ]
  },
  {
   "cell_type": "code",
   "execution_count": 2,
   "id": "97b568d0-a23f-4d87-916c-53e100ce0d24",
   "metadata": {},
   "outputs": [
    {
     "data": {
      "text/plain": [
       "1"
      ]
     },
     "execution_count": 2,
     "metadata": {},
     "output_type": "execute_result"
    }
   ],
   "source": [
    "# Subtração\n",
    "4 - 3"
   ]
  },
  {
   "cell_type": "code",
   "execution_count": 3,
   "id": "84c87d65-01a0-4207-88ed-403dbf7cd591",
   "metadata": {},
   "outputs": [
    {
     "data": {
      "text/plain": [
       "9"
      ]
     },
     "execution_count": 3,
     "metadata": {},
     "output_type": "execute_result"
    }
   ],
   "source": [
    "# Multiplicação\n",
    "3 * 3"
   ]
  },
  {
   "cell_type": "code",
   "execution_count": 4,
   "id": "eb2bd001-f9d1-46a6-ab1e-949db04ec82c",
   "metadata": {},
   "outputs": [
    {
     "data": {
      "text/plain": [
       "1.5"
      ]
     },
     "execution_count": 4,
     "metadata": {},
     "output_type": "execute_result"
    }
   ],
   "source": [
    "# Divisão\n",
    "3 / 2"
   ]
  },
  {
   "cell_type": "code",
   "execution_count": 11,
   "id": "36de0faa-4679-4bd2-abc8-fba74c05086d",
   "metadata": {},
   "outputs": [
    {
     "data": {
      "text/plain": [
       "16"
      ]
     },
     "execution_count": 11,
     "metadata": {},
     "output_type": "execute_result"
    }
   ],
   "source": [
    "# Potência\n",
    "4 ** 2\n",
    "\n",
    "# (a) elevado a (b)"
   ]
  },
  {
   "cell_type": "code",
   "execution_count": 12,
   "id": "9559570a-7750-4a87-babc-73960cc50903",
   "metadata": {},
   "outputs": [
    {
     "data": {
      "text/plain": [
       "1"
      ]
     },
     "execution_count": 12,
     "metadata": {},
     "output_type": "execute_result"
    }
   ],
   "source": [
    "# Módulo\n",
    "10 % 3\n",
    "\n",
    "# quanto de (a) sobra ao preenchê-lo com multiplicações de (b)"
   ]
  },
  {
   "cell_type": "markdown",
   "id": "9a8d0145-8610-49b5-89e3-a1ac5dd989eb",
   "metadata": {},
   "source": [
    "### Como identificar tipo (Função Type)"
   ]
  },
  {
   "cell_type": "code",
   "execution_count": 13,
   "id": "f11fc28b-652d-40ea-9de6-e632a5da1c96",
   "metadata": {},
   "outputs": [
    {
     "data": {
      "text/plain": [
       "int"
      ]
     },
     "execution_count": 13,
     "metadata": {},
     "output_type": "execute_result"
    }
   ],
   "source": [
    "type(5) # retorna o tipo \"int\""
   ]
  },
  {
   "cell_type": "code",
   "execution_count": 14,
   "id": "de79ae43-8acc-4623-8d54-f42db5b43f70",
   "metadata": {},
   "outputs": [
    {
     "data": {
      "text/plain": [
       "float"
      ]
     },
     "execution_count": 14,
     "metadata": {},
     "output_type": "execute_result"
    }
   ],
   "source": [
    "type(5.0) # retorna o tipo \"float\""
   ]
  },
  {
   "cell_type": "code",
   "execution_count": 15,
   "id": "8ffa3dde-59ac-4de3-8a66-69ade7821e08",
   "metadata": {},
   "outputs": [
    {
     "data": {
      "text/plain": [
       "str"
      ]
     },
     "execution_count": 15,
     "metadata": {},
     "output_type": "execute_result"
    }
   ],
   "source": [
    "a = 'Uma String'\n",
    "type(a) # retorna o tipo \"str\" (string)"
   ]
  },
  {
   "cell_type": "markdown",
   "id": "a674d4c2-9950-4a70-8bea-d4551534de52",
   "metadata": {},
   "source": [
    "### Operações com números Float"
   ]
  },
  {
   "cell_type": "code",
   "execution_count": 18,
   "id": "94f933a3-f3ff-4bf7-a94a-66ea7abe8db2",
   "metadata": {},
   "outputs": [
    {
     "data": {
      "text/plain": [
       "9.5"
      ]
     },
     "execution_count": 18,
     "metadata": {},
     "output_type": "execute_result"
    }
   ],
   "source": [
    "3.1 + 6.4 # O resultado é FLOAT (Float + Float)"
   ]
  },
  {
   "cell_type": "code",
   "execution_count": 19,
   "id": "eb703128-87e7-43ec-beb0-cd131a8505fe",
   "metadata": {},
   "outputs": [
    {
     "data": {
      "text/plain": [
       "8.0"
      ]
     },
     "execution_count": 19,
     "metadata": {},
     "output_type": "execute_result"
    }
   ],
   "source": [
    "4 + 4.0 # O resultado é FLOAT (Int + Float)"
   ]
  },
  {
   "cell_type": "code",
   "execution_count": 20,
   "id": "155b9450-1b37-4932-a3f5-16f541dd59ad",
   "metadata": {},
   "outputs": [
    {
     "data": {
      "text/plain": [
       "8"
      ]
     },
     "execution_count": 20,
     "metadata": {},
     "output_type": "execute_result"
    }
   ],
   "source": [
    "4 + 4 # O resultado é INT (Int + Int)"
   ]
  },
  {
   "cell_type": "code",
   "execution_count": 21,
   "id": "5155b31c-27f7-40ba-be66-0c955342068f",
   "metadata": {},
   "outputs": [
    {
     "data": {
      "text/plain": [
       "2.0"
      ]
     },
     "execution_count": 21,
     "metadata": {},
     "output_type": "execute_result"
    }
   ],
   "source": [
    "4 / 2 # O resultado das divisões são números float"
   ]
  },
  {
   "cell_type": "code",
   "execution_count": 24,
   "id": "d10e0ac0-1c0b-4256-892d-003e351c543c",
   "metadata": {},
   "outputs": [
    {
     "data": {
      "text/plain": [
       "2"
      ]
     },
     "execution_count": 24,
     "metadata": {},
     "output_type": "execute_result"
    }
   ],
   "source": [
    "4 // 2 # Divisões reais (duas barras) retornam numeros inteiros (Int // Int)"
   ]
  },
  {
   "cell_type": "code",
   "execution_count": 25,
   "id": "7d3fd09f-250f-4880-8c9c-c2df055eea68",
   "metadata": {},
   "outputs": [
    {
     "data": {
      "text/plain": [
       "1.3333333333333333"
      ]
     },
     "execution_count": 25,
     "metadata": {},
     "output_type": "execute_result"
    }
   ],
   "source": [
    "4 / 3.0 # O resultado das divisões são números float"
   ]
  },
  {
   "cell_type": "code",
   "execution_count": 28,
   "id": "d375da1d-c675-4d48-a151-543fc1916af0",
   "metadata": {},
   "outputs": [
    {
     "data": {
      "text/plain": [
       "1.0"
      ]
     },
     "execution_count": 28,
     "metadata": {},
     "output_type": "execute_result"
    }
   ],
   "source": [
    "4.0 // 3 # Divisões reais (duas barras) entre tipos Float e Int retornam float (Float // Int) sem precisão"
   ]
  },
  {
   "cell_type": "markdown",
   "id": "c0279981-445a-45dd-a1d8-87e392b529ac",
   "metadata": {},
   "source": [
    "### Convertendo Números"
   ]
  },
  {
   "cell_type": "code",
   "execution_count": 29,
   "id": "5c66db48-8bda-48cd-8c5a-1c992032a9c5",
   "metadata": {},
   "outputs": [
    {
     "data": {
      "text/plain": [
       "9.0"
      ]
     },
     "execution_count": 29,
     "metadata": {},
     "output_type": "execute_result"
    }
   ],
   "source": [
    "float(9) # - Converte um valor em FLOAT"
   ]
  },
  {
   "cell_type": "code",
   "execution_count": 32,
   "id": "46d22433-1d48-4c60-9d4b-fc8a8166777d",
   "metadata": {},
   "outputs": [
    {
     "data": {
      "text/plain": [
       "6"
      ]
     },
     "execution_count": 32,
     "metadata": {},
     "output_type": "execute_result"
    }
   ],
   "source": [
    "int(6.8) # - Converte um valor em INT, sacrifica precisão (arredondando pra baixo)"
   ]
  },
  {
   "cell_type": "markdown",
   "id": "da4b37c8-de5a-45c5-9be1-3987af1c29c4",
   "metadata": {},
   "source": [
    "### Valores Hexadecimais e Binários"
   ]
  },
  {
   "cell_type": "code",
   "execution_count": 33,
   "id": "670f9ea8-0a10-408a-9eef-a7ca1bdedb44",
   "metadata": {},
   "outputs": [
    {
     "data": {
      "text/plain": [
       "'0x18a'"
      ]
     },
     "execution_count": 33,
     "metadata": {},
     "output_type": "execute_result"
    }
   ],
   "source": [
    "hex(394) # - Converte um valor em Hexadecimal"
   ]
  },
  {
   "cell_type": "code",
   "execution_count": 34,
   "id": "d9c0c139-0350-4f02-9d4a-ab095ef423cc",
   "metadata": {},
   "outputs": [
    {
     "data": {
      "text/plain": [
       "'0xd9'"
      ]
     },
     "execution_count": 34,
     "metadata": {},
     "output_type": "execute_result"
    }
   ],
   "source": [
    "hex(217) # - Converte um valor em Hexadecimal"
   ]
  },
  {
   "cell_type": "code",
   "execution_count": 35,
   "id": "c3dac5e8-0613-4c5f-9588-50a836e546ea",
   "metadata": {},
   "outputs": [
    {
     "data": {
      "text/plain": [
       "'0b100011110'"
      ]
     },
     "execution_count": 35,
     "metadata": {},
     "output_type": "execute_result"
    }
   ],
   "source": [
    "bin(286) # - Converte um valor em Binário"
   ]
  },
  {
   "cell_type": "code",
   "execution_count": 36,
   "id": "6659b27e-fa43-4f45-b647-9e80af184b5c",
   "metadata": {},
   "outputs": [
    {
     "data": {
      "text/plain": [
       "'0b110000110'"
      ]
     },
     "execution_count": 36,
     "metadata": {},
     "output_type": "execute_result"
    }
   ],
   "source": [
    "bin(390) # - Converte um valor em Binário"
   ]
  },
  {
   "cell_type": "code",
   "execution_count": 40,
   "id": "3a9a7bbb-ae6f-4730-9a41-185c4cc46da9",
   "metadata": {},
   "outputs": [
    {
     "data": {
      "text/plain": [
       "394"
      ]
     },
     "execution_count": 40,
     "metadata": {},
     "output_type": "execute_result"
    }
   ],
   "source": [
    "int('0x18a', 16) # - Converte uma \"string\" Hexadecimal em Decimal"
   ]
  },
  {
   "cell_type": "code",
   "execution_count": 42,
   "id": "516c6bf4-3985-441e-82f6-cb455babef11",
   "metadata": {},
   "outputs": [
    {
     "data": {
      "text/plain": [
       "390"
      ]
     },
     "execution_count": 42,
     "metadata": {},
     "output_type": "execute_result"
    }
   ],
   "source": [
    "int('0b110000110', 2) # - Converte uma \"string\" Binária em Decimal"
   ]
  },
  {
   "cell_type": "markdown",
   "id": "8be4de31-c5ca-449d-9d34-47cc078938d9",
   "metadata": {},
   "source": [
    "### Funções, ABS, Round e POW"
   ]
  },
  {
   "cell_type": "code",
   "execution_count": 47,
   "id": "f20a8f62-6250-410e-9e17-b547d625fbd7",
   "metadata": {},
   "outputs": [
    {
     "data": {
      "text/plain": [
       "8"
      ]
     },
     "execution_count": 47,
     "metadata": {},
     "output_type": "execute_result"
    }
   ],
   "source": [
    "abs(-8) # - Retorna um valor Absoluto (ignora a polaridade)"
   ]
  },
  {
   "cell_type": "code",
   "execution_count": 45,
   "id": "c7c1844d-f7a5-4261-a56c-885c32ba2d20",
   "metadata": {},
   "outputs": [
    {
     "data": {
      "text/plain": [
       "3.14"
      ]
     },
     "execution_count": 45,
     "metadata": {},
     "output_type": "execute_result"
    }
   ],
   "source": [
    "round(3.14151922, 2) # - Retorna um valor arredondado de até (b) dígitos"
   ]
  },
  {
   "cell_type": "code",
   "execution_count": 46,
   "id": "84691011-c831-490c-a188-9965e541c09e",
   "metadata": {},
   "outputs": [
    {
     "data": {
      "text/plain": [
       "16"
      ]
     },
     "execution_count": 46,
     "metadata": {},
     "output_type": "execute_result"
    }
   ],
   "source": [
    "pow(4, 2) # - Potência. Mesmo efeito que (a ** b)."
   ]
  },
  {
   "cell_type": "code",
   "execution_count": null,
   "id": "cb280b1e-9b3a-467f-9e91-b61ffc421804",
   "metadata": {},
   "outputs": [],
   "source": []
  }
 ],
 "metadata": {
  "kernelspec": {
   "display_name": "Python 3 (ipykernel)",
   "language": "python",
   "name": "python3"
  },
  "language_info": {
   "codemirror_mode": {
    "name": "ipython",
    "version": 3
   },
   "file_extension": ".py",
   "mimetype": "text/x-python",
   "name": "python",
   "nbconvert_exporter": "python",
   "pygments_lexer": "ipython3",
   "version": "3.12.4"
  }
 },
 "nbformat": 4,
 "nbformat_minor": 5
}
