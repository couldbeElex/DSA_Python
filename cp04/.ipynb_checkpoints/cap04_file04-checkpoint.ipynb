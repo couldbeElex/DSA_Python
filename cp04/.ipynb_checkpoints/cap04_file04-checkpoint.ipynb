{
 "cells": [
  {
   "cell_type": "markdown",
   "id": "01e42936-6069-456a-9bd1-c6a60e1853b2",
   "metadata": {},
   "source": [
    "### Trabalhando com Listas"
   ]
  },
  {
   "cell_type": "code",
   "execution_count": 7,
   "id": "ecc9dd0f-f86e-4a5e-8f3a-963d0b5a802c",
   "metadata": {},
   "outputs": [],
   "source": [
    "lista_1 = ['arroz, frango, tomate, leite'] # - Cria uma lista"
   ]
  },
  {
   "cell_type": "code",
   "execution_count": 8,
   "id": "47af5e8d-b2b6-41ea-9f89-dff7a7317ffe",
   "metadata": {},
   "outputs": [
    {
     "data": {
      "text/plain": [
       "list"
      ]
     },
     "execution_count": 8,
     "metadata": {},
     "output_type": "execute_result"
    }
   ],
   "source": [
    "type(lista_1)"
   ]
  },
  {
   "cell_type": "code",
   "execution_count": 9,
   "id": "edad5625-cbb2-496c-b894-e63262e67ece",
   "metadata": {},
   "outputs": [
    {
     "name": "stdout",
     "output_type": "stream",
     "text": [
      "['arroz, frango, tomate, leite']\n"
     ]
    }
   ],
   "source": [
    "print(lista_1) # - Exibe a lista chamada"
   ]
  },
  {
   "cell_type": "code",
   "execution_count": 10,
   "id": "efddce83-3baa-41e2-82d0-dfd15703ad25",
   "metadata": {},
   "outputs": [],
   "source": [
    "lista_2 = ['arroz', 'frango', 'tomate', 'leite']"
   ]
  },
  {
   "cell_type": "code",
   "execution_count": 11,
   "id": "50e1c97b-8b4c-4855-8cb5-41830f8ce7aa",
   "metadata": {},
   "outputs": [
    {
     "data": {
      "text/plain": [
       "list"
      ]
     },
     "execution_count": 11,
     "metadata": {},
     "output_type": "execute_result"
    }
   ],
   "source": [
    "type(lista_2)"
   ]
  },
  {
   "cell_type": "code",
   "execution_count": 12,
   "id": "1453f118-803f-4b01-9036-e550f4b51aee",
   "metadata": {},
   "outputs": [
    {
     "name": "stdout",
     "output_type": "stream",
     "text": [
      "['arroz', 'frango', 'tomate', 'leite']\n"
     ]
    }
   ],
   "source": [
    "print(lista_2)"
   ]
  },
  {
   "cell_type": "code",
   "execution_count": 13,
   "id": "b54f1736-1ff8-458f-91ca-711971f61dc6",
   "metadata": {},
   "outputs": [],
   "source": [
    "lista_3 = [23, 100, 'Cientista de Dados']"
   ]
  },
  {
   "cell_type": "code",
   "execution_count": 14,
   "id": "e89cf3fc-8a31-4222-bd49-9ca356454e35",
   "metadata": {},
   "outputs": [
    {
     "data": {
      "text/plain": [
       "list"
      ]
     },
     "execution_count": 14,
     "metadata": {},
     "output_type": "execute_result"
    }
   ],
   "source": [
    "type(lista_3)"
   ]
  },
  {
   "cell_type": "code",
   "execution_count": 15,
   "id": "148cb871-4f0a-4db2-a7a7-85b2b2e9364d",
   "metadata": {},
   "outputs": [
    {
     "name": "stdout",
     "output_type": "stream",
     "text": [
      "[23, 100, 'Cientista de Dados']\n"
     ]
    }
   ],
   "source": [
    "print(lista_3)"
   ]
  },
  {
   "cell_type": "code",
   "execution_count": 16,
   "id": "99a2f9fa-0493-48c9-84bd-fe977a5f67da",
   "metadata": {},
   "outputs": [],
   "source": [
    "item1 = lista_3[0] # - Reserva o primeiro item (0) da lista na variável item1\n",
    "item2 = lista_3[1]\n",
    "item3 = lista_3[2]"
   ]
  },
  {
   "cell_type": "code",
   "execution_count": 17,
   "id": "368d1a5d-a5a0-4ee8-99e0-4389111a0c2b",
   "metadata": {},
   "outputs": [
    {
     "name": "stdout",
     "output_type": "stream",
     "text": [
      "23 100 Cientista de Dados\n"
     ]
    }
   ],
   "source": [
    "print(item1, item2, item3)"
   ]
  },
  {
   "cell_type": "code",
   "execution_count": 18,
   "id": "f59b8288-4b50-407c-add5-896c90e13d8e",
   "metadata": {},
   "outputs": [
    {
     "data": {
      "text/plain": [
       "['arroz', 'frango', 'tomate', 'leite']"
      ]
     },
     "execution_count": 18,
     "metadata": {},
     "output_type": "execute_result"
    }
   ],
   "source": [
    "lista_2"
   ]
  },
  {
   "cell_type": "code",
   "execution_count": 19,
   "id": "f4e34189-6d47-45ac-80fb-3e6415f37533",
   "metadata": {},
   "outputs": [
    {
     "data": {
      "text/plain": [
       "'tomate'"
      ]
     },
     "execution_count": 19,
     "metadata": {},
     "output_type": "execute_result"
    }
   ],
   "source": [
    "lista_2[2] # - Exibe o valor de índice 2 (o terceiro valor)"
   ]
  },
  {
   "cell_type": "code",
   "execution_count": 20,
   "id": "439e34ca-7642-428e-826c-8da3e0c5e5ab",
   "metadata": {},
   "outputs": [],
   "source": [
    "lista_2[2] = 'chocolate' # - Substitui o valor de um objeto em uma lista"
   ]
  },
  {
   "cell_type": "code",
   "execution_count": 22,
   "id": "7200561b-a346-4a20-a620-40e99f1e0c13",
   "metadata": {},
   "outputs": [
    {
     "data": {
      "text/plain": [
       "['arroz', 'frango', 'chocolate', 'leite']"
      ]
     },
     "execution_count": 22,
     "metadata": {},
     "output_type": "execute_result"
    }
   ],
   "source": [
    "lista_2"
   ]
  },
  {
   "cell_type": "code",
   "execution_count": 23,
   "id": "6203f1d6-f288-4e31-bad6-800d82e25334",
   "metadata": {},
   "outputs": [
    {
     "ename": "IndexError",
     "evalue": "list assignment index out of range",
     "output_type": "error",
     "traceback": [
      "\u001b[1;31m---------------------------------------------------------------------------\u001b[0m",
      "\u001b[1;31mIndexError\u001b[0m                                Traceback (most recent call last)",
      "Cell \u001b[1;32mIn[23], line 1\u001b[0m\n\u001b[1;32m----> 1\u001b[0m \u001b[38;5;28;01mdel\u001b[39;00m lista_2[\u001b[38;5;241m4\u001b[39m]\n",
      "\u001b[1;31mIndexError\u001b[0m: list assignment index out of range"
     ]
    }
   ],
   "source": [
    "del lista_2[4] \n",
    "# Tenta deletar um objeto em uma lista.\n",
    "# [4] retorna um erro, pois não existe um quinto item na lista \"lista_2\"."
   ]
  },
  {
   "cell_type": "code",
   "execution_count": 24,
   "id": "d80da43d-f89e-4ca6-a839-ff9960208823",
   "metadata": {},
   "outputs": [],
   "source": [
    "del lista_2[3] # - Deleta o objeto quatro [3] na lista \"lista_2\"."
   ]
  },
  {
   "cell_type": "code",
   "execution_count": 25,
   "id": "074b542e-e5db-4a0a-911e-905ad602f666",
   "metadata": {},
   "outputs": [
    {
     "data": {
      "text/plain": [
       "['arroz', 'frango', 'chocolate']"
      ]
     },
     "execution_count": 25,
     "metadata": {},
     "output_type": "execute_result"
    }
   ],
   "source": [
    "lista_2"
   ]
  },
  {
   "cell_type": "code",
   "execution_count": 26,
   "id": "5fc0ed7c-7455-417f-8513-cf7c9f3c30ea",
   "metadata": {},
   "outputs": [],
   "source": [
    "listas = [ [1, 2, 3], [10, 15, 14], [10.1, 8.7, 2.3] ]\n",
    "# Cria uma lista com listas aninhadas."
   ]
  },
  {
   "cell_type": "code",
   "execution_count": 28,
   "id": "73f364e3-c34e-4fb5-83ee-754b4f90b077",
   "metadata": {},
   "outputs": [
    {
     "data": {
      "text/plain": [
       "[[1, 2, 3], [10, 15, 14], [10.1, 8.7, 2.3]]"
      ]
     },
     "execution_count": 28,
     "metadata": {},
     "output_type": "execute_result"
    }
   ],
   "source": [
    "listas"
   ]
  },
  {
   "cell_type": "code",
   "execution_count": 29,
   "id": "57f11fcf-73c8-4394-91d6-500b2e69e75b",
   "metadata": {},
   "outputs": [
    {
     "data": {
      "text/plain": [
       "[1, 2, 3]"
      ]
     },
     "execution_count": 29,
     "metadata": {},
     "output_type": "execute_result"
    }
   ],
   "source": [
    "listas[0]"
   ]
  },
  {
   "cell_type": "code",
   "execution_count": 34,
   "id": "8e158ae7-5a38-4f71-9fa1-ed7c29310024",
   "metadata": {},
   "outputs": [
    {
     "data": {
      "text/plain": [
       "1"
      ]
     },
     "execution_count": 34,
     "metadata": {},
     "output_type": "execute_result"
    }
   ],
   "source": [
    "listas[0][0] # - Imprime um elemento dentro de uma lista em outra lista."
   ]
  },
  {
   "cell_type": "code",
   "execution_count": 39,
   "id": "67064763-21fb-4ca9-85b0-b35741e1d276",
   "metadata": {},
   "outputs": [
    {
     "name": "stdout",
     "output_type": "stream",
     "text": [
      "[1, 2, 3]\n"
     ]
    }
   ],
   "source": [
    "a = listas[0] # - Atribui o primeiro elemento da lista à variável\n",
    "print(a)"
   ]
  },
  {
   "cell_type": "code",
   "execution_count": 40,
   "id": "62aa382c-79aa-419a-8092-fb9bfae1abe2",
   "metadata": {},
   "outputs": [
    {
     "name": "stdout",
     "output_type": "stream",
     "text": [
      "1\n"
     ]
    }
   ],
   "source": [
    "b = a[0] # - Atribui o prmeiro elemento da variável à outra variável\n",
    "print(b)"
   ]
  },
  {
   "cell_type": "markdown",
   "id": "fcdeb960-7ce4-419c-ba62-9ee0147e4427",
   "metadata": {},
   "source": [
    "### Operações com Listas"
   ]
  },
  {
   "cell_type": "code",
   "execution_count": 41,
   "id": "6fb6f5f5-cc98-4845-aa37-919461fad81c",
   "metadata": {},
   "outputs": [
    {
     "name": "stdout",
     "output_type": "stream",
     "text": [
      "12.1\n"
     ]
    }
   ],
   "source": [
    "a = listas[2][0]\n",
    "b = listas[0][1]\n",
    "print(a + b)"
   ]
  },
  {
   "cell_type": "code",
   "execution_count": 44,
   "id": "cbc54423-85c4-4a2a-8780-eed2ad0a6d18",
   "metadata": {},
   "outputs": [
    {
     "data": {
      "text/plain": [
       "141.4"
      ]
     },
     "execution_count": 44,
     "metadata": {},
     "output_type": "execute_result"
    }
   ],
   "source": [
    "a * listas[1][2]"
   ]
  },
  {
   "cell_type": "markdown",
   "id": "3e9cc9b6-bafc-4275-b63f-7771242b34a8",
   "metadata": {},
   "source": [
    "### Concatenando Listas"
   ]
  },
  {
   "cell_type": "code",
   "execution_count": 45,
   "id": "830eff3d-66d6-4058-a555-8e1eda6c40bb",
   "metadata": {},
   "outputs": [],
   "source": [
    "lista_s1 = [34, 32, 56]"
   ]
  },
  {
   "cell_type": "code",
   "execution_count": 46,
   "id": "7c7bd873-18a9-4b4a-90b2-cef574b7332c",
   "metadata": {},
   "outputs": [],
   "source": [
    "lista_s2 = [21, 90, 51]"
   ]
  },
  {
   "cell_type": "code",
   "execution_count": 47,
   "id": "daba94e8-fa6a-4b42-abb1-f23157a6d623",
   "metadata": {},
   "outputs": [
    {
     "data": {
      "text/plain": [
       "[34, 32, 56, 21, 90, 51]"
      ]
     },
     "execution_count": 47,
     "metadata": {},
     "output_type": "execute_result"
    }
   ],
   "source": [
    "lista_s1 + lista_s2"
   ]
  },
  {
   "cell_type": "code",
   "execution_count": 48,
   "id": "21780476-f644-4001-a435-dc419a77cf57",
   "metadata": {},
   "outputs": [],
   "source": [
    "lista_teste_op = [100, 2, -5, 3.4]"
   ]
  },
  {
   "cell_type": "code",
   "execution_count": 49,
   "id": "2d42a357-5f6c-47b2-a6a1-56e07f09005e",
   "metadata": {},
   "outputs": [
    {
     "name": "stdout",
     "output_type": "stream",
     "text": [
      "False\n"
     ]
    }
   ],
   "source": [
    "print(10 in lista_teste_op) # - Query: O operador '10' pertence à lista?"
   ]
  },
  {
   "cell_type": "code",
   "execution_count": 51,
   "id": "42851e50-61b2-45a0-bcf0-0351849559ba",
   "metadata": {},
   "outputs": [
    {
     "name": "stdout",
     "output_type": "stream",
     "text": [
      "True\n"
     ]
    }
   ],
   "source": [
    "print(100 in lista_teste_op) # - Query: O operador '100' pertence à lista?"
   ]
  },
  {
   "cell_type": "markdown",
   "id": "40067b64-e166-44ba-a7cf-c90257f03240",
   "metadata": {},
   "source": [
    "### Funções built-in para Listas"
   ]
  },
  {
   "cell_type": "code",
   "execution_count": 52,
   "id": "5bc92ce4-fb00-4f4b-9a2c-886ae36cdf14",
   "metadata": {},
   "outputs": [],
   "source": [
    "lista_numeros = [10, 20, 50, -3.4] # - Cria uma lista"
   ]
  },
  {
   "cell_type": "code",
   "execution_count": 53,
   "id": "6e641747-6d1a-40d0-92d1-aa50cd6dbd8e",
   "metadata": {},
   "outputs": [
    {
     "data": {
      "text/plain": [
       "4"
      ]
     },
     "execution_count": 53,
     "metadata": {},
     "output_type": "execute_result"
    }
   ],
   "source": [
    "len(lista_numeros) # - Retorna o comprimento da lista"
   ]
  },
  {
   "cell_type": "code",
   "execution_count": 54,
   "id": "bd3c3bc4-3487-4d16-9260-13c77ee261a4",
   "metadata": {},
   "outputs": [
    {
     "data": {
      "text/plain": [
       "50"
      ]
     },
     "execution_count": 54,
     "metadata": {},
     "output_type": "execute_result"
    }
   ],
   "source": [
    "max(lista_numeros) # - Retorna o valor máximo da lista"
   ]
  },
  {
   "cell_type": "code",
   "execution_count": 55,
   "id": "75542f4f-8f94-4291-b007-3ded8021acaa",
   "metadata": {},
   "outputs": [
    {
     "data": {
      "text/plain": [
       "-3.4"
      ]
     },
     "execution_count": 55,
     "metadata": {},
     "output_type": "execute_result"
    }
   ],
   "source": [
    "min(lista_numeros) # - Retorna o valor mínimo da lista"
   ]
  },
  {
   "cell_type": "code",
   "execution_count": 74,
   "id": "e71ddcc2-0c80-48ae-8da3-997fa676f68b",
   "metadata": {},
   "outputs": [],
   "source": [
    "lista_formacoes_dsa = ['Analista de dados', 'Cientista de dados', 'Engenheiro de dados']"
   ]
  },
  {
   "cell_type": "code",
   "execution_count": 75,
   "id": "e8725dcd-83ae-4e18-949d-6d3abec7913c",
   "metadata": {},
   "outputs": [],
   "source": [
    "lista_formacoes_dsa.append('Engenheiro de IA') # - Adiciona um elemento a uma lista"
   ]
  },
  {
   "cell_type": "code",
   "execution_count": 76,
   "id": "17a93faa-15dd-48fa-bc82-787cbcaf2eea",
   "metadata": {},
   "outputs": [
    {
     "data": {
      "text/plain": [
       "['Analista de dados',\n",
       " 'Cientista de dados',\n",
       " 'Engenheiro de dados',\n",
       " 'Engenheiro de IA']"
      ]
     },
     "execution_count": 76,
     "metadata": {},
     "output_type": "execute_result"
    }
   ],
   "source": [
    "lista_formacoes_dsa"
   ]
  },
  {
   "cell_type": "code",
   "execution_count": 79,
   "id": "7fd7d833-db1f-43fc-a765-f77769f44da7",
   "metadata": {},
   "outputs": [],
   "source": [
    "lista_formacoes_dsa.append('Engenheiro de IA') # - ... independente de ele já existir ou não."
   ]
  },
  {
   "cell_type": "code",
   "execution_count": 80,
   "id": "6d7f1f82-820e-4030-97e4-48a1a40225f1",
   "metadata": {},
   "outputs": [
    {
     "data": {
      "text/plain": [
       "['Analista de dados',\n",
       " 'Cientista de dados',\n",
       " 'Engenheiro de dados',\n",
       " 'Engenheiro de IA',\n",
       " 'Engenheiro de IA',\n",
       " 'Engenheiro de IA',\n",
       " 'Engenheiro de IA']"
      ]
     },
     "execution_count": 80,
     "metadata": {},
     "output_type": "execute_result"
    }
   ],
   "source": [
    "lista_formacoes_dsa"
   ]
  },
  {
   "cell_type": "code",
   "execution_count": 81,
   "id": "4c74a0a8-af43-4ece-9115-da76b05bcd0d",
   "metadata": {},
   "outputs": [],
   "source": [
    "del lista_formacoes_dsa[4:]"
   ]
  },
  {
   "cell_type": "code",
   "execution_count": 82,
   "id": "29b6452a-2dc3-4775-8846-e9f26d7215c1",
   "metadata": {},
   "outputs": [
    {
     "data": {
      "text/plain": [
       "['Analista de dados',\n",
       " 'Cientista de dados',\n",
       " 'Engenheiro de dados',\n",
       " 'Engenheiro de IA']"
      ]
     },
     "execution_count": 82,
     "metadata": {},
     "output_type": "execute_result"
    }
   ],
   "source": [
    "lista_formacoes_dsa"
   ]
  },
  {
   "cell_type": "code",
   "execution_count": 84,
   "id": "c3be9359-780a-4928-97e6-1eb38541c7b2",
   "metadata": {},
   "outputs": [
    {
     "data": {
      "text/plain": [
       "1"
      ]
     },
     "execution_count": 84,
     "metadata": {},
     "output_type": "execute_result"
    }
   ],
   "source": [
    "lista_formacoes_dsa.count('Analista de dados') # - Conta o numero de incidências de um elemento"
   ]
  },
  {
   "cell_type": "code",
   "execution_count": 85,
   "id": "4143a68b-373a-4428-9d29-f2cb11fce810",
   "metadata": {},
   "outputs": [],
   "source": [
    "a = []"
   ]
  },
  {
   "cell_type": "code",
   "execution_count": 86,
   "id": "fb2afc38-8ad6-4734-b5f5-9e9abf6afa4d",
   "metadata": {},
   "outputs": [
    {
     "name": "stdout",
     "output_type": "stream",
     "text": [
      "[]\n"
     ]
    }
   ],
   "source": [
    "print(a)"
   ]
  },
  {
   "cell_type": "code",
   "execution_count": 87,
   "id": "7dde6b1a-8a85-40b3-9235-2691d86d3592",
   "metadata": {},
   "outputs": [
    {
     "data": {
      "text/plain": [
       "list"
      ]
     },
     "execution_count": 87,
     "metadata": {},
     "output_type": "execute_result"
    }
   ],
   "source": [
    "type(a)"
   ]
  },
  {
   "cell_type": "code",
   "execution_count": 88,
   "id": "54dc6f16-fd82-414c-99fe-997b6bff6e5e",
   "metadata": {},
   "outputs": [
    {
     "data": {
      "text/plain": [
       "[10]"
      ]
     },
     "execution_count": 88,
     "metadata": {},
     "output_type": "execute_result"
    }
   ],
   "source": [
    "a.append(10)\n",
    "a"
   ]
  },
  {
   "cell_type": "code",
   "execution_count": 89,
   "id": "4b7e81a6-0416-44dd-b12a-3726ed2a6931",
   "metadata": {},
   "outputs": [
    {
     "data": {
      "text/plain": [
       "[10, 50]"
      ]
     },
     "execution_count": 89,
     "metadata": {},
     "output_type": "execute_result"
    }
   ],
   "source": [
    "a.append(50)\n",
    "a"
   ]
  },
  {
   "cell_type": "code",
   "execution_count": 90,
   "id": "c44b59f5-feec-4b67-9bd6-f1fda75be15f",
   "metadata": {},
   "outputs": [],
   "source": [
    "old_list = [1, 2, 5, 10]"
   ]
  },
  {
   "cell_type": "code",
   "execution_count": 96,
   "id": "c5cd8e6f-d0d2-4a1d-8c68-dd2aa7c72feb",
   "metadata": {},
   "outputs": [],
   "source": [
    "new_list = []"
   ]
  },
  {
   "cell_type": "code",
   "execution_count": 106,
   "id": "e84244a2-22df-483b-96fc-eeb8358d3fb1",
   "metadata": {},
   "outputs": [
    {
     "name": "stdout",
     "output_type": "stream",
     "text": [
      "[1, 2, 5, 10, 1]\n",
      "[1, 2, 5, 10, 1, 2]\n",
      "[1, 2, 5, 10, 1, 2, 5]\n",
      "[1, 2, 5, 10, 1, 2, 5, 10]\n"
     ]
    }
   ],
   "source": [
    "for item in old_list: # - Roda um laço que atribui elementos de uma lista em outra\n",
    "    new_list.append(item)\n",
    "    print(new_list)"
   ]
  },
  {
   "cell_type": "code",
   "execution_count": 107,
   "id": "3e318875-f1ba-4416-80bf-435224400547",
   "metadata": {},
   "outputs": [],
   "source": [
    "cidades = ['Recife', 'Manaus', 'Salvador']"
   ]
  },
  {
   "cell_type": "code",
   "execution_count": 108,
   "id": "cd1456ab-f0d7-4aae-af6c-71f6d931d747",
   "metadata": {},
   "outputs": [],
   "source": [
    "cidades.extend(['Fortaleza', 'Palmas']) # - Extende o conteúdo de uma lista com novos elementos"
   ]
  },
  {
   "cell_type": "code",
   "execution_count": 109,
   "id": "b79fbff4-d25a-4b85-87a3-a0c8002ac893",
   "metadata": {},
   "outputs": [
    {
     "data": {
      "text/plain": [
       "['Recife', 'Manaus', 'Salvador', 'Fortaleza', 'Palmas']"
      ]
     },
     "execution_count": 109,
     "metadata": {},
     "output_type": "execute_result"
    }
   ],
   "source": [
    "cidades"
   ]
  },
  {
   "cell_type": "code",
   "execution_count": 110,
   "id": "8a71bfe6-bd77-4603-a5a4-b6ab81cec814",
   "metadata": {},
   "outputs": [
    {
     "data": {
      "text/plain": [
       "2"
      ]
     },
     "execution_count": 110,
     "metadata": {},
     "output_type": "execute_result"
    }
   ],
   "source": [
    "cidades.index('Salvador') # - Busca o índice de um elemento"
   ]
  },
  {
   "cell_type": "code",
   "execution_count": 111,
   "id": "7e119456-6259-47ee-90aa-1a47f49676c5",
   "metadata": {},
   "outputs": [
    {
     "ename": "ValueError",
     "evalue": "'Rio de Janeiro' is not in list",
     "output_type": "error",
     "traceback": [
      "\u001b[1;31m---------------------------------------------------------------------------\u001b[0m",
      "\u001b[1;31mValueError\u001b[0m                                Traceback (most recent call last)",
      "Cell \u001b[1;32mIn[111], line 1\u001b[0m\n\u001b[1;32m----> 1\u001b[0m cidades\u001b[38;5;241m.\u001b[39mindex(\u001b[38;5;124m'\u001b[39m\u001b[38;5;124mRio de Janeiro\u001b[39m\u001b[38;5;124m'\u001b[39m)\n",
      "\u001b[1;31mValueError\u001b[0m: 'Rio de Janeiro' is not in list"
     ]
    }
   ],
   "source": [
    "cidades.index('Rio de Janeiro') # - ... E retorna um erro caso não exista"
   ]
  },
  {
   "cell_type": "code",
   "execution_count": 112,
   "id": "ae39354b-0246-4ee5-8c82-561b8ebd5cf5",
   "metadata": {},
   "outputs": [],
   "source": [
    "cidades.insert(2, 'Rio de Janeiro') # - Insere, no índice 2, o elemento 'Rio de Janeiro'"
   ]
  },
  {
   "cell_type": "code",
   "execution_count": 113,
   "id": "dbbbdae6-65a9-4a89-bba9-be4033295ce3",
   "metadata": {},
   "outputs": [
    {
     "data": {
      "text/plain": [
       "['Recife', 'Manaus', 'Rio de Janeiro', 'Salvador', 'Fortaleza', 'Palmas']"
      ]
     },
     "execution_count": 113,
     "metadata": {},
     "output_type": "execute_result"
    }
   ],
   "source": [
    "cidades"
   ]
  },
  {
   "cell_type": "code",
   "execution_count": 114,
   "id": "3006ef85-1eca-4a3e-8d0f-ebd5ad99fc33",
   "metadata": {},
   "outputs": [],
   "source": [
    "cidades.remove('Rio de Janeiro') # - Remove o elemento em um índice, reajustando os posteriores"
   ]
  },
  {
   "cell_type": "code",
   "execution_count": 115,
   "id": "a42f9fbf-92bb-49fd-9f39-2037d9991d49",
   "metadata": {},
   "outputs": [
    {
     "data": {
      "text/plain": [
       "['Recife', 'Manaus', 'Salvador', 'Fortaleza', 'Palmas']"
      ]
     },
     "execution_count": 115,
     "metadata": {},
     "output_type": "execute_result"
    }
   ],
   "source": [
    "cidades"
   ]
  },
  {
   "cell_type": "code",
   "execution_count": 116,
   "id": "e66f6d07-bbfe-4bbb-bdc3-ead4bb8327c3",
   "metadata": {},
   "outputs": [],
   "source": [
    "cidades.reverse() # - Reverte a ordem da Lista"
   ]
  },
  {
   "cell_type": "code",
   "execution_count": 117,
   "id": "9e939eb0-6160-491f-b452-1f39eea78995",
   "metadata": {},
   "outputs": [
    {
     "data": {
      "text/plain": [
       "['Palmas', 'Fortaleza', 'Salvador', 'Manaus', 'Recife']"
      ]
     },
     "execution_count": 117,
     "metadata": {},
     "output_type": "execute_result"
    }
   ],
   "source": [
    "cidades"
   ]
  },
  {
   "cell_type": "code",
   "execution_count": 120,
   "id": "55c190bd-aecf-4598-be7b-2b572a380774",
   "metadata": {},
   "outputs": [],
   "source": [
    "cidades.sort() # - Ordena a lista. O padrão para Strings é a primeira letra, em ordem alfabética"
   ]
  },
  {
   "cell_type": "code",
   "execution_count": 119,
   "id": "67872693-8d82-49f2-99c7-50f438200d53",
   "metadata": {},
   "outputs": [
    {
     "data": {
      "text/plain": [
       "['Fortaleza', 'Manaus', 'Palmas', 'Recife', 'Salvador']"
      ]
     },
     "execution_count": 119,
     "metadata": {},
     "output_type": "execute_result"
    }
   ],
   "source": [
    "cidades"
   ]
  },
  {
   "cell_type": "code",
   "execution_count": null,
   "id": "5dfe5f2b-9e83-46e4-adda-50a766b33994",
   "metadata": {},
   "outputs": [],
   "source": []
  }
 ],
 "metadata": {
  "kernelspec": {
   "display_name": "Python 3 (ipykernel)",
   "language": "python",
   "name": "python3"
  },
  "language_info": {
   "codemirror_mode": {
    "name": "ipython",
    "version": 3
   },
   "file_extension": ".py",
   "mimetype": "text/x-python",
   "name": "python",
   "nbconvert_exporter": "python",
   "pygments_lexer": "ipython3",
   "version": "3.12.4"
  }
 },
 "nbformat": 4,
 "nbformat_minor": 5
}
