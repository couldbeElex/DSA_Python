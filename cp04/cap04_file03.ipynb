{
 "cells": [
  {
   "cell_type": "markdown",
   "id": "14df49da-b792-4721-9fd0-941c2f281c5f",
   "metadata": {},
   "source": [
    "## Strings em Python"
   ]
  },
  {
   "cell_type": "code",
   "execution_count": 1,
   "id": "09fde0a8-76d1-49d6-9bcc-0bf55ee1a503",
   "metadata": {},
   "outputs": [
    {
     "data": {
      "text/plain": [
       "'Palavra'"
      ]
     },
     "execution_count": 1,
     "metadata": {},
     "output_type": "execute_result"
    }
   ],
   "source": [
    "'Palavra' # - Isso cria uma string de uma palavra só. Você pode usar aspas simples ou duplas."
   ]
  },
  {
   "cell_type": "code",
   "execution_count": 2,
   "id": "ed724733-9551-4a96-b957-1cf8d35a8ffe",
   "metadata": {},
   "outputs": [
    {
     "data": {
      "text/plain": [
       "'Uma frase completa em Python'"
      ]
     },
     "execution_count": 2,
     "metadata": {},
     "output_type": "execute_result"
    }
   ],
   "source": [
    "'Uma frase completa em Python' # - Isso cria uma string composta por uma frase."
   ]
  },
  {
   "cell_type": "code",
   "execution_count": 3,
   "id": "37233aaf-9b4d-4de3-b742-05da631fb224",
   "metadata": {},
   "outputs": [
    {
     "data": {
      "text/plain": [
       "'Aspas duplas também funcionam.'"
      ]
     },
     "execution_count": 3,
     "metadata": {},
     "output_type": "execute_result"
    }
   ],
   "source": [
    "\"Aspas duplas também funcionam.\""
   ]
  },
  {
   "cell_type": "code",
   "execution_count": 4,
   "id": "984865dc-fa70-4e38-944f-b58b7a1d4cee",
   "metadata": {},
   "outputs": [
    {
     "data": {
      "text/plain": [
       "'Combinar os dois \"tipos\" de aspas exibe as aspas na String final.'"
      ]
     },
     "execution_count": 4,
     "metadata": {},
     "output_type": "execute_result"
    }
   ],
   "source": [
    "'Combinar os dois \"tipos\" de aspas exibe as aspas na String final.'"
   ]
  },
  {
   "cell_type": "markdown",
   "id": "f04326e3-1c8f-42b7-9341-5ce3728703ab",
   "metadata": {},
   "source": [
    "### Exibindo uma String"
   ]
  },
  {
   "cell_type": "code",
   "execution_count": 5,
   "id": "8dde29c6-95e9-463d-b33f-8627787f22e8",
   "metadata": {},
   "outputs": [
    {
     "name": "stdout",
     "output_type": "stream",
     "text": [
      "Testando strings em Python\n"
     ]
    }
   ],
   "source": [
    "print('Testando strings em Python') # - Perceba que esse print não exibe as aspas práticas."
   ]
  },
  {
   "cell_type": "code",
   "execution_count": 6,
   "id": "cfb51a64-e6a5-4885-93ed-4a2e823af755",
   "metadata": {},
   "outputs": [
    {
     "name": "stdout",
     "output_type": "stream",
     "text": [
      "Testando \n",
      "Strings \n",
      "em \n",
      "Python\n"
     ]
    }
   ],
   "source": [
    "print('Testando \\nStrings \\nem \\nPython') # - \\n insere um return, como a tecla \"Enter\""
   ]
  },
  {
   "cell_type": "code",
   "execution_count": 7,
   "id": "64175397-b0b2-42f3-a752-d3b72c933d66",
   "metadata": {},
   "outputs": [
    {
     "name": "stdout",
     "output_type": "stream",
     "text": [
      "\n",
      "\n"
     ]
    }
   ],
   "source": [
    "print('\\n') # - Imprime um return, um espaço vazio."
   ]
  },
  {
   "cell_type": "markdown",
   "id": "45e7f4fc-90d7-44a2-84b1-6d941365e6fc",
   "metadata": {},
   "source": [
    "### Indexando Strings"
   ]
  },
  {
   "cell_type": "code",
   "execution_count": 8,
   "id": "ce7c3fb2-3f1f-423d-8a59-5db6edd5e550",
   "metadata": {},
   "outputs": [
    {
     "name": "stdout",
     "output_type": "stream",
     "text": [
      "Data Science Academy\n"
     ]
    }
   ],
   "source": [
    "s = 'Data Science Academy'\n",
    "print(s)"
   ]
  },
  {
   "cell_type": "code",
   "execution_count": 9,
   "id": "aabc8dcf-b63e-4694-80ae-c09a6e86e8f2",
   "metadata": {},
   "outputs": [
    {
     "data": {
      "text/plain": [
       "'D'"
      ]
     },
     "execution_count": 9,
     "metadata": {},
     "output_type": "execute_result"
    }
   ],
   "source": [
    "s[0] # - Imprime o primeiro caractere da String. \"0\" é o primeiro índice de uma matriz em Python."
   ]
  },
  {
   "cell_type": "code",
   "execution_count": 10,
   "id": "6f23db0a-f5f7-47e4-9b19-22b140bf958b",
   "metadata": {},
   "outputs": [
    {
     "data": {
      "text/plain": [
       "'S'"
      ]
     },
     "execution_count": 10,
     "metadata": {},
     "output_type": "execute_result"
    }
   ],
   "source": [
    "s[5]"
   ]
  },
  {
   "cell_type": "code",
   "execution_count": 11,
   "id": "87477be6-057c-46ed-842a-b18474b91da9",
   "metadata": {},
   "outputs": [
    {
     "data": {
      "text/plain": [
       "'A'"
      ]
     },
     "execution_count": 11,
     "metadata": {},
     "output_type": "execute_result"
    }
   ],
   "source": [
    "s[13]"
   ]
  },
  {
   "cell_type": "markdown",
   "id": "8e8c756b-795c-42c2-b1f0-bccd36e4491c",
   "metadata": {},
   "source": [
    "É possível realizar a leitura de um slice de String utilizando : entre índices de matriz."
   ]
  },
  {
   "cell_type": "code",
   "execution_count": 12,
   "id": "ef69674e-f33e-4bcf-bd0a-321912a71121",
   "metadata": {},
   "outputs": [
    {
     "data": {
      "text/plain": [
       "'ata Science Academy'"
      ]
     },
     "execution_count": 12,
     "metadata": {},
     "output_type": "execute_result"
    }
   ],
   "source": [
    "s[1:] # - Realiza a leitura de todos os valores desde o índice 1 (segundo valor) até o último."
   ]
  },
  {
   "cell_type": "code",
   "execution_count": 13,
   "id": "685570ef-c2ca-497d-9316-4251aa3f0519",
   "metadata": {},
   "outputs": [
    {
     "data": {
      "text/plain": [
       "'Data'"
      ]
     },
     "execution_count": 13,
     "metadata": {},
     "output_type": "execute_result"
    }
   ],
   "source": [
    "s[:4] # - Realiza a leitura de todos os valores do início ao índice 3 (até antes do 4)."
   ]
  },
  {
   "cell_type": "code",
   "execution_count": 14,
   "id": "f423622f-af02-49d2-87fb-1fa35bbf0d93",
   "metadata": {},
   "outputs": [
    {
     "data": {
      "text/plain": [
       "'Science'"
      ]
     },
     "execution_count": 14,
     "metadata": {},
     "output_type": "execute_result"
    }
   ],
   "source": [
    "s[5:12] # - Realiza a leitura de todos os valores do índice 5 ao índice 11."
   ]
  },
  {
   "cell_type": "code",
   "execution_count": 15,
   "id": "d90456e9-47b8-4b71-a36e-35e9b4169e69",
   "metadata": {},
   "outputs": [
    {
     "data": {
      "text/plain": [
       "'y'"
      ]
     },
     "execution_count": 15,
     "metadata": {},
     "output_type": "execute_result"
    }
   ],
   "source": [
    "s[-1] # - Indexação negativa lê o texto de trás pra frente. -1 retorna o último valor."
   ]
  },
  {
   "cell_type": "code",
   "execution_count": 16,
   "id": "004b795f-a3df-496d-a559-15fa45cc3097",
   "metadata": {},
   "outputs": [
    {
     "data": {
      "text/plain": [
       "'Data Science Academ'"
      ]
     },
     "execution_count": 16,
     "metadata": {},
     "output_type": "execute_result"
    }
   ],
   "source": [
    "s[:-1] # - Realiza a leitura de todos os valores, menos do último."
   ]
  },
  {
   "cell_type": "markdown",
   "id": "57a7e651-6e49-4575-b158-3fc6b492b9ff",
   "metadata": {},
   "source": [
    "Nós também podemos usar a notação de índice e fatiar a String em pedaços específicos.\n",
    "Por exemplo, podemos usar dois pontos duas vezes em uma linha e, em seguida, um número para especificar\n",
    "a frequência de retorno de elementos (a cada um, a cada dois, a cada três...)"
   ]
  },
  {
   "cell_type": "code",
   "execution_count": 17,
   "id": "00f7cd25-6fca-4b79-a8dd-73d2fdab08d9",
   "metadata": {},
   "outputs": [
    {
     "data": {
      "text/plain": [
       "'Data Science Academy'"
      ]
     },
     "execution_count": 17,
     "metadata": {},
     "output_type": "execute_result"
    }
   ],
   "source": [
    "s[::1] # - Retorna elementos na String a cada um elemento (todos os elementos)."
   ]
  },
  {
   "cell_type": "code",
   "execution_count": 18,
   "id": "8948dccf-d332-41a0-874a-d9700c20e2c0",
   "metadata": {},
   "outputs": [
    {
     "data": {
      "text/plain": [
       "'Dt cec cdm'"
      ]
     },
     "execution_count": 18,
     "metadata": {},
     "output_type": "execute_result"
    }
   ],
   "source": [
    "s[::2] # - Retorna elementos na String a cada dois elementos (índices pares)."
   ]
  },
  {
   "cell_type": "code",
   "execution_count": 19,
   "id": "bcdd3daf-d36b-461b-9b68-71eb44c56b3b",
   "metadata": {},
   "outputs": [
    {
     "data": {
      "text/plain": [
       "'ymedacA ecneicS ataD'"
      ]
     },
     "execution_count": 19,
     "metadata": {},
     "output_type": "execute_result"
    }
   ],
   "source": [
    "s[::-1] # - Retorna elementos na String a cada um elemento, DE TRÁS PRA FRENTE."
   ]
  },
  {
   "cell_type": "markdown",
   "id": "c1338153-3061-44b1-a99d-53bbc479a265",
   "metadata": {},
   "source": [
    "### Propriedades de Strings"
   ]
  },
  {
   "cell_type": "code",
   "execution_count": 20,
   "id": "7c8ddc75-a99b-4b46-9182-085e4c6d369c",
   "metadata": {},
   "outputs": [
    {
     "data": {
      "text/plain": [
       "'Data Science Academy'"
      ]
     },
     "execution_count": 20,
     "metadata": {},
     "output_type": "execute_result"
    }
   ],
   "source": [
    "s # - Exibe a String original, que não foi reatribuida."
   ]
  },
  {
   "cell_type": "code",
   "execution_count": 21,
   "id": "bb420d70-64fc-4e6c-9b82-b82e6a132564",
   "metadata": {},
   "outputs": [
    {
     "ename": "TypeError",
     "evalue": "'str' object does not support item assignment",
     "output_type": "error",
     "traceback": [
      "\u001b[1;31m---------------------------------------------------------------------------\u001b[0m",
      "\u001b[1;31mTypeError\u001b[0m                                 Traceback (most recent call last)",
      "Cell \u001b[1;32mIn[21], line 1\u001b[0m\n\u001b[1;32m----> 1\u001b[0m s[\u001b[38;5;241m0\u001b[39m] \u001b[38;5;241m=\u001b[39m \u001b[38;5;124m'\u001b[39m\u001b[38;5;124mx\u001b[39m\u001b[38;5;124m'\u001b[39m\n",
      "\u001b[1;31mTypeError\u001b[0m: 'str' object does not support item assignment"
     ]
    }
   ],
   "source": [
    "s[0] = 'x' # - Tenta substituir um valor na String por outro valor. Retorna erro."
   ]
  },
  {
   "cell_type": "code",
   "execution_count": null,
   "id": "00c5cdad-a260-4a2b-b287-e823f8d1eebc",
   "metadata": {},
   "outputs": [],
   "source": [
    "# Concatena a String sem substituir seu valor.\n",
    "s + ' é a melhor maneira de estar preparado para o mercado de trabalho em Data Science.'"
   ]
  },
  {
   "cell_type": "code",
   "execution_count": null,
   "id": "57235b3e-f839-4ecd-846f-b8f2e691c049",
   "metadata": {},
   "outputs": [],
   "source": [
    "# Reatribui a String com um novo valor.\n",
    "s = s + ' é a melhor maneira de estar preparado para o mercado de trabalho em Data Science.'"
   ]
  },
  {
   "cell_type": "code",
   "execution_count": null,
   "id": "a86c467f-4b0e-49f1-82e0-3612fc719872",
   "metadata": {},
   "outputs": [],
   "source": [
    "print(s)"
   ]
  },
  {
   "cell_type": "code",
   "execution_count": null,
   "id": "5ca459a8-1251-40e4-a9d8-52ebb9de20bb",
   "metadata": {},
   "outputs": [],
   "source": [
    "unit = 'w'\n",
    "unit * 3 # - É possível multiplicar o valor de uma String, repetindo o valor atribuído."
   ]
  },
  {
   "cell_type": "markdown",
   "id": "7c8813fe-249a-4fc4-88ee-42959f157fc3",
   "metadata": {},
   "source": [
    "Funções built-in de Strings"
   ]
  },
  {
   "cell_type": "code",
   "execution_count": 22,
   "id": "746becfb-19de-4d7c-9d97-620d62014d8c",
   "metadata": {},
   "outputs": [],
   "source": [
    "s = s[:20]"
   ]
  },
  {
   "cell_type": "code",
   "execution_count": 84,
   "id": "f3f593f9-e989-45d4-a26c-45b43c825b4d",
   "metadata": {},
   "outputs": [
    {
     "data": {
      "text/plain": [
       "'Data Science Academy'"
      ]
     },
     "execution_count": 84,
     "metadata": {},
     "output_type": "execute_result"
    }
   ],
   "source": [
    "s"
   ]
  },
  {
   "cell_type": "code",
   "execution_count": 23,
   "id": "5f81549d-cade-4a56-9321-88ce449f307a",
   "metadata": {},
   "outputs": [
    {
     "data": {
      "text/plain": [
       "'DATA SCIENCE ACADEMY'"
      ]
     },
     "execution_count": 23,
     "metadata": {},
     "output_type": "execute_result"
    }
   ],
   "source": [
    "s.upper()\n",
    "# Coloca todas as letras em UPPERCASE"
   ]
  },
  {
   "cell_type": "code",
   "execution_count": 24,
   "id": "6a33f60f-c18f-41da-ab6e-76dcd0ba90d6",
   "metadata": {},
   "outputs": [
    {
     "data": {
      "text/plain": [
       "'data science academy'"
      ]
     },
     "execution_count": 24,
     "metadata": {},
     "output_type": "execute_result"
    }
   ],
   "source": [
    "s.lower()\n",
    "# Coloca todas as letras em LOWERCASE"
   ]
  },
  {
   "cell_type": "code",
   "execution_count": 33,
   "id": "4f110a44-ee50-424d-9951-de42a406995d",
   "metadata": {},
   "outputs": [
    {
     "data": {
      "text/plain": [
       "['Data', 'Science', 'Academy']"
      ]
     },
     "execution_count": 33,
     "metadata": {},
     "output_type": "execute_result"
    }
   ],
   "source": [
    "s.split()\n",
    "# Divide a String em partes. Por padrão, divide pelos espaços. Pode dividir por caracteres específicos."
   ]
  },
  {
   "cell_type": "code",
   "execution_count": 31,
   "id": "42337efa-5522-4f3c-8f42-2322754e9ead",
   "metadata": {},
   "outputs": [
    {
     "data": {
      "text/plain": [
       "19"
      ]
     },
     "execution_count": 31,
     "metadata": {},
     "output_type": "execute_result"
    }
   ],
   "source": [
    "s.find('y')\n",
    "# Encontra determinado caractere em uma String."
   ]
  },
  {
   "cell_type": "code",
   "execution_count": 34,
   "id": "55dacd5d-d057-42fb-a7ee-b4e9a10eaae2",
   "metadata": {},
   "outputs": [],
   "source": [
    "s = 'Seja bem vindo ao Universo da Linguagem Python!'"
   ]
  },
  {
   "cell_type": "code",
   "execution_count": 35,
   "id": "d3385648-cede-4476-9852-bf0d92e4ba22",
   "metadata": {},
   "outputs": [
    {
     "data": {
      "text/plain": [
       "'Seja bem vindo ao Universo da Linguagem Python!'"
      ]
     },
     "execution_count": 35,
     "metadata": {},
     "output_type": "execute_result"
    }
   ],
   "source": [
    "s"
   ]
  },
  {
   "cell_type": "code",
   "execution_count": 37,
   "id": "bd94587e-1b65-4cf5-b87a-13ce5c5a198a",
   "metadata": {},
   "outputs": [
    {
     "data": {
      "text/plain": [
       "'Seja bem vindo ao universo da linguagem python!'"
      ]
     },
     "execution_count": 37,
     "metadata": {},
     "output_type": "execute_result"
    }
   ],
   "source": [
    "s.capitalize()\n",
    "# Capitaliza a primeira letra da String."
   ]
  },
  {
   "cell_type": "code",
   "execution_count": 39,
   "id": "0a62f49e-09fb-4d19-b3b9-9cc2b42555d4",
   "metadata": {},
   "outputs": [
    {
     "data": {
      "text/plain": [
       "4"
      ]
     },
     "execution_count": 39,
     "metadata": {},
     "output_type": "execute_result"
    }
   ],
   "source": [
    "s.count('a')\n",
    "# Conta o numero de incidência de um caractere em uma String."
   ]
  },
  {
   "cell_type": "code",
   "execution_count": 40,
   "id": "c893fea0-756a-4390-a161-196fb48b4e19",
   "metadata": {},
   "outputs": [
    {
     "data": {
      "text/plain": [
       "False"
      ]
     },
     "execution_count": 40,
     "metadata": {},
     "output_type": "execute_result"
    }
   ],
   "source": [
    "s.isalnum()\n",
    "# Query: Essa String é toda de números?"
   ]
  },
  {
   "cell_type": "code",
   "execution_count": 41,
   "id": "d71da171-8474-4852-b84f-2786180c2dbe",
   "metadata": {},
   "outputs": [
    {
     "data": {
      "text/plain": [
       "False"
      ]
     },
     "execution_count": 41,
     "metadata": {},
     "output_type": "execute_result"
    }
   ],
   "source": [
    "s.islower()\n",
    "# Query: Essa String só possui caracteres minúsculos?"
   ]
  },
  {
   "cell_type": "code",
   "execution_count": 42,
   "id": "94a01aa9-8f50-4435-9af2-878245864c73",
   "metadata": {},
   "outputs": [
    {
     "data": {
      "text/plain": [
       "False"
      ]
     },
     "execution_count": 42,
     "metadata": {},
     "output_type": "execute_result"
    }
   ],
   "source": [
    "s.isspace()\n",
    "# Query: Essa String é apenas formada por blank spaces?"
   ]
  },
  {
   "cell_type": "code",
   "execution_count": 43,
   "id": "ffe07e35-2f67-42a2-b5a2-2f5277faa2cc",
   "metadata": {},
   "outputs": [
    {
     "data": {
      "text/plain": [
       "False"
      ]
     },
     "execution_count": 43,
     "metadata": {},
     "output_type": "execute_result"
    }
   ],
   "source": [
    "s.endswith('o')\n",
    "# Query: O último caractere dessa String é o caractere indicado?"
   ]
  },
  {
   "cell_type": "code",
   "execution_count": 44,
   "id": "20ac31b7-df0c-4628-b9d7-49c122254687",
   "metadata": {},
   "outputs": [],
   "source": [
    "s = '1000'"
   ]
  },
  {
   "cell_type": "code",
   "execution_count": 49,
   "id": "20e4b90b-0469-424e-9804-fe672ad90066",
   "metadata": {},
   "outputs": [
    {
     "data": {
      "text/plain": [
       "'1000'"
      ]
     },
     "execution_count": 49,
     "metadata": {},
     "output_type": "execute_result"
    }
   ],
   "source": [
    "s"
   ]
  },
  {
   "cell_type": "markdown",
   "id": "bc797a68-5c77-4d18-8167-4e67aa81fd45",
   "metadata": {},
   "source": [
    "### Comparando Strings"
   ]
  },
  {
   "cell_type": "code",
   "execution_count": 50,
   "id": "22aadd99-0c6a-4647-8c86-c9d084719a81",
   "metadata": {},
   "outputs": [
    {
     "name": "stdout",
     "output_type": "stream",
     "text": [
      "False\n"
     ]
    }
   ],
   "source": [
    "print('Python' == 'R')"
   ]
  },
  {
   "cell_type": "code",
   "execution_count": 51,
   "id": "dda61c93-8cdb-417f-b017-b9b1ebae58f6",
   "metadata": {},
   "outputs": [
    {
     "name": "stdout",
     "output_type": "stream",
     "text": [
      "True\n"
     ]
    }
   ],
   "source": [
    "print('python' == 'python')"
   ]
  },
  {
   "cell_type": "code",
   "execution_count": 52,
   "id": "3d2caa56-8826-46e1-a7e8-a22530ab622d",
   "metadata": {},
   "outputs": [
    {
     "name": "stdout",
     "output_type": "stream",
     "text": [
      "True\n"
     ]
    }
   ],
   "source": [
    "print(s == '1000')"
   ]
  },
  {
   "cell_type": "code",
   "execution_count": null,
   "id": "c596c242-c832-40d0-9cab-fd66a1fac284",
   "metadata": {},
   "outputs": [],
   "source": []
  }
 ],
 "metadata": {
  "kernelspec": {
   "display_name": "Python 3 (ipykernel)",
   "language": "python",
   "name": "python3"
  },
  "language_info": {
   "codemirror_mode": {
    "name": "ipython",
    "version": 3
   },
   "file_extension": ".py",
   "mimetype": "text/x-python",
   "name": "python",
   "nbconvert_exporter": "python",
   "pygments_lexer": "ipython3",
   "version": "3.12.4"
  }
 },
 "nbformat": 4,
 "nbformat_minor": 5
}
