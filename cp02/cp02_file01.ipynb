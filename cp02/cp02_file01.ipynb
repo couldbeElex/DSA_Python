{
 "cells": [
  {
   "cell_type": "code",
   "execution_count": 1,
   "id": "8238d566-8f95-4e8e-b739-b2e4a2ff7b85",
   "metadata": {},
   "outputs": [
    {
     "data": {
      "text/plain": [
       "4"
      ]
     },
     "execution_count": 1,
     "metadata": {},
     "output_type": "execute_result"
    }
   ],
   "source": [
    "2 + 2"
   ]
  },
  {
   "cell_type": "code",
   "execution_count": 2,
   "id": "36b54699-776c-4a32-8b2c-b7799a504f4a",
   "metadata": {},
   "outputs": [
    {
     "name": "stdout",
     "output_type": "stream",
     "text": [
      "hi wold owo\n"
     ]
    }
   ],
   "source": [
    "print('hi wold owo')"
   ]
  },
  {
   "cell_type": "code",
   "execution_count": 3,
   "id": "8d5a5980-a5ca-4128-bf38-412b15ec5fd1",
   "metadata": {},
   "outputs": [
    {
     "name": "stdout",
     "output_type": "stream",
     "text": [
      "hewwo world uwu\n"
     ]
    }
   ],
   "source": [
    "print('hewwo world uwu')"
   ]
  },
  {
   "cell_type": "markdown",
   "id": "53cde82e-7171-482d-abea-df63d7434d94",
   "metadata": {},
   "source": [
    "\"list\" vai criar uma lista de numeros, atribuída à variável numeros."
   ]
  },
  {
   "cell_type": "code",
   "execution_count": 18,
   "id": "f1956261-ee0f-49be-ad3e-4db049e409de",
   "metadata": {},
   "outputs": [
    {
     "name": "stdout",
     "output_type": "stream",
     "text": [
      "4\n",
      "8\n",
      "12\n",
      "16\n",
      "20\n",
      "24\n",
      "28\n",
      "32\n",
      "36\n",
      "40\n",
      "44\n",
      "48\n",
      "52\n",
      "56\n",
      "60\n",
      "64\n",
      "68\n",
      "72\n",
      "76\n",
      "80\n",
      "84\n",
      "88\n",
      "92\n",
      "96\n",
      "100\n",
      "25 numeros no total\n"
     ]
    }
   ],
   "source": [
    "numeros = list(range(1, 101))\n",
    "valores = 0\n",
    "\n",
    "## \"list\" cria uma lista de numeros, atribuído à variável \"numeros\",\n",
    "## que vai do primeiro valor ao ultimo valor, não incluindo o ultimo valor em ci\n",
    "## no exemplo, a lista vai de 1 à 100 (101 - 1).\n",
    "\n",
    "for numero in numeros:\n",
    "    ## aqui, é criada uma nova variável: numero. ela é o valor que define o estado e posição\n",
    "    ## do loop de for\n",
    "\n",
    "    if numero % 2 == 0 and numero % 4 == 0:\n",
    "        valores += 1        \n",
    "        print(numero)\n",
    "        ## aqui, o programa busca quais valores dentro da lista são multiplos de 2 (pares) e multiplos de quatro.\n",
    "        ## em seguida, ele exibe no console esses valores.\n",
    "\n",
    "print(f'{valores} numeros no total')\n",
    "        ## por fim, um toque pessoal: criei uma variável chamada valores que conta quantos numeros\n",
    "        ## que cumprem os requisitos do loop foram identificados. no fim, esse valor é exibido no console,\n",
    "        ## depois da contagem."
   ]
  },
  {
   "cell_type": "markdown",
   "id": "d3b6f509-0c28-4423-8a3b-6ff34114caa0",
   "metadata": {},
   "source": [
    "agora, usando list comprehension:"
   ]
  },
  {
   "cell_type": "code",
   "execution_count": 28,
   "id": "888dddf8-5dcf-4e92-ac11-cf304c9e355a",
   "metadata": {},
   "outputs": [],
   "source": [
    "numeros = list(range(1, 101))\n",
    "## mesma função de antes"
   ]
  },
  {
   "cell_type": "code",
   "execution_count": 27,
   "id": "b454ee5a-6d05-4e89-a686-f944e013d32c",
   "metadata": {},
   "outputs": [],
   "source": [
    "pares_div4 = [numero for numero in numeros if numero % 2 == 0 and numero % 4 == 0]\n",
    "## é a mesma função de antes, em uma linha só - é o conceito de list comprehension, eu acho"
   ]
  },
  {
   "cell_type": "code",
   "execution_count": 30,
   "id": "6b0f56a0-a476-4ff0-b875-e966b6270aa6",
   "metadata": {},
   "outputs": [
    {
     "name": "stdout",
     "output_type": "stream",
     "text": [
      "[4, 8, 12, 16, 20, 24, 28, 32, 36, 40, 44, 48, 52, 56, 60, 64, 68, 72, 76, 80, 84, 88, 92, 96, 100]\n"
     ]
    }
   ],
   "source": [
    "print(pares_div4)"
   ]
  },
  {
   "cell_type": "code",
   "execution_count": null,
   "id": "0a6a00cf-6907-45d5-8553-3a447a7aac5c",
   "metadata": {},
   "outputs": [],
   "source": []
  }
 ],
 "metadata": {
  "kernelspec": {
   "display_name": "Python 3 (ipykernel)",
   "language": "python",
   "name": "python3"
  },
  "language_info": {
   "codemirror_mode": {
    "name": "ipython",
    "version": 3
   },
   "file_extension": ".py",
   "mimetype": "text/x-python",
   "name": "python",
   "nbconvert_exporter": "python",
   "pygments_lexer": "ipython3",
   "version": "3.12.4"
  }
 },
 "nbformat": 4,
 "nbformat_minor": 5
}
