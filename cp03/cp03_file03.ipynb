{
 "cells": [
  {
   "cell_type": "markdown",
   "id": "b5df7b5b-34e2-4300-b13e-14198f863d61",
   "metadata": {},
   "source": [
    "A próxima tarefa é criar um Pseudocódigo - e um código real - para um algorítmo de Bubble Sort.\n",
    "\n",
    "## Bubble Sort:\n",
    "\n",
    "Esse algorítmo tem como missão ordenar uma lista de objetos de acordo com suas devidas posições. Na sua forma mais simples, sua função é ordenar uma lista de valores do menor para o maior, jogando os valores mais altos em um array para o topo conforme necessário.\n",
    "\n",
    "## O Pseudocódigo:\n",
    "\n",
    "• Criar uma lista alimentada por um gerador de numeros aleatórios de valores 1 à 10\n",
    "\n",
    "• Exibir os itens como foram gerados\n",
    "\n",
    "• Criar um laço de repetição que reposicione os itens da lista baseado no valor e na posição do laço\n",
    "\n",
    "• Exibir os itens reordenados"
   ]
  },
  {
   "cell_type": "code",
   "execution_count": 3,
   "id": "6e7acfd5-40ac-4b4d-88e9-c87154b56b22",
   "metadata": {},
   "outputs": [
    {
     "name": "stdout",
     "output_type": "stream",
     "text": [
      "[5, 12, 8, 1, 11, 15, 9, 11, 4, 6, 15, 10, 14, 12, 9]\n"
     ]
    }
   ],
   "source": [
    "## imports random\n",
    "import random as rd\n",
    "list = []\n",
    "\n",
    "# cria uma lista e popula com valores aleatórios de 1 a 10:\n",
    "# um underline no lugar de index indicaria que a variável de contagem não é necessária.\n",
    "for _ in range(1, 16):\n",
    "\n",
    "    # o builder recebe um numero aleatório de 1 a 10\n",
    "    builder = rd.randint(1, 15)\n",
    "\n",
    "    # que em seguida é recebido pela lista \"list\"\n",
    "    list.append(builder)\n",
    "    \n",
    "# logo depois, são exibidos os valores da lista:\n",
    "print(list)\n",
    "\n",
    "# uma vez que a lista é populada, é necessário ordenar os objetos dentro dela.    \n",
    "def bubbleSort(arr):\n",
    "\n",
    "    # atribui-se a uma variável o comprimento da lista\n",
    "    n = len(arr)\n",
    "    \n",
    "    # a lógica é que os objetos de maior valor são jogados pro final da lista.\n",
    "    \n",
    "    for i in range(n):\n",
    "        # ^ o primeiro laço percorre cada um dos índices da lista, do primeiro ao final,\n",
    "\n",
    "        for j in range(n - 1 - i):\n",
    "            # ^ já o segundo laço garante que o ultimo valor sempre vai ser pulado - tanto para garantir\n",
    "            # a integridade do código (evitar erros) quanto para permitir que o ultimo valor,\n",
    "            # que sempre será maior ao final do laço anterior, continue como ultimo valor\n",
    "\n",
    "            # se o meu atual valor for maior que o próximo valor na lista,\n",
    "            if arr[j] > arr[j + 1]:\n",
    "                \n",
    "                # então mudo os dois de posição\n",
    "                arr[j], arr[j + 1] = arr[j + 1], arr[j]\n",
    "\n",
    "                # o laço repete; dessa vez, testando os próximos dois valores.\n",
    "                # ao final do laço de j, reinicia-se a laço, buscando popular o ultimo espaço do array\n",
    "                # antes do ultimo espaço populado\n",
    "    \n",
    "    # por fim, exibe os valores da lista (retornando via função) depois de ordenar\n",
    "    return arr"
   ]
  },
  {
   "cell_type": "code",
   "execution_count": 4,
   "id": "c3c3f09f-d9da-45e7-94ff-864b987ea8a6",
   "metadata": {},
   "outputs": [
    {
     "data": {
      "text/plain": [
       "[1, 4, 5, 6, 8, 9, 9, 10, 11, 11, 12, 12, 14, 15, 15]"
      ]
     },
     "execution_count": 4,
     "metadata": {},
     "output_type": "execute_result"
    }
   ],
   "source": [
    "bubbleSort(list)"
   ]
  },
  {
   "cell_type": "code",
   "execution_count": null,
   "id": "8b04eb42-11fe-48d5-9eb6-68e0c8c8b95b",
   "metadata": {},
   "outputs": [],
   "source": []
  }
 ],
 "metadata": {
  "kernelspec": {
   "display_name": "Python 3 (ipykernel)",
   "language": "python",
   "name": "python3"
  },
  "language_info": {
   "codemirror_mode": {
    "name": "ipython",
    "version": 3
   },
   "file_extension": ".py",
   "mimetype": "text/x-python",
   "name": "python",
   "nbconvert_exporter": "python",
   "pygments_lexer": "ipython3",
   "version": "3.12.4"
  }
 },
 "nbformat": 4,
 "nbformat_minor": 5
}
