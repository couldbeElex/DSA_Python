{
 "cells": [
  {
   "cell_type": "markdown",
   "id": "df4fa1d9-20cf-4cb2-b102-5769582df986",
   "metadata": {},
   "source": [
    "A lição arrancada do capítulo três diz respeito, principalmente, à função input.\n",
    "\n",
    "O capilo aborda lógica de programação, mas o conteúdo era algo que já era do meu conhecimento. No entanto, aprendi que a função input no python permite a exibição de uma mensagem junto à função, diferente do Java."
   ]
  },
  {
   "cell_type": "code",
   "execution_count": 4,
   "id": "dab75d6c-22a9-4538-9030-ee0fdae35d9a",
   "metadata": {},
   "outputs": [
    {
     "name": "stdout",
     "output_type": "stream",
     "text": [
      "Bem-vindo ao Calculador de Área de Paralelograma\n"
     ]
    },
    {
     "name": "stdin",
     "output_type": "stream",
     "text": [
      "Insira a medida da BASE do Paralelograma:  54.6\n",
      "Insira a medida da ALTURA do Paralelograma:  33.2\n"
     ]
    },
    {
     "name": "stdout",
     "output_type": "stream",
     "text": [
      "A área do paralelograma é:  1812.72  unidades quadradas.\n"
     ]
    }
   ],
   "source": [
    "print('Bem-vindo ao Calculador de Área de Paralelograma')\n",
    "\n",
    "base = float(input('Insira a medida da BASE do Paralelograma: '))\n",
    "## aqui, o input vem seguido de uma mensagem. essa mensagem é exibida no momento da inserção de valor, no caso,\n",
    "## o valor de \"base\"\n",
    "altura = float(input('Insira a medida da ALTURA do Paralelograma: '))\n",
    "## mesmo que o anterior, mas este lê a altura\n",
    "area = base * altura\n",
    "\n",
    "print('A área do paralelograma é: ', round(area, 2), ' unidades quadradas.')\n",
    "## a função \"round\" serve pra arredondar um valor para um decimal específico. aqui, a função arredonda o valor\n",
    "## de \"area\" para dois decimais."
   ]
  },
  {
   "cell_type": "code",
   "execution_count": null,
   "id": "a339edc9-ecf0-4329-bf4b-38f7a3de621f",
   "metadata": {},
   "outputs": [],
   "source": []
  }
 ],
 "metadata": {
  "kernelspec": {
   "display_name": "Python 3 (ipykernel)",
   "language": "python",
   "name": "python3"
  },
  "language_info": {
   "codemirror_mode": {
    "name": "ipython",
    "version": 3
   },
   "file_extension": ".py",
   "mimetype": "text/x-python",
   "name": "python",
   "nbconvert_exporter": "python",
   "pygments_lexer": "ipython3",
   "version": "3.12.4"
  }
 },
 "nbformat": 4,
 "nbformat_minor": 5
}
