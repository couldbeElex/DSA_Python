{
 "cells": [
  {
   "cell_type": "markdown",
   "id": "b5df7b5b-34e2-4300-b13e-14198f863d61",
   "metadata": {},
   "source": [
    "A próxima tarefa é criar um Pseudocódigo - e um código real - para um algorítmo de Bubble Sort.\n",
    "\n",
    "## Bubble Sort:\n",
    "\n",
    "Esse algorítmo tem como missão ordenar uma lista de objetos de acordo com suas devidas posições. Na sua forma mais simples, sua função é ordenar uma lista de valores do menor para o maior, jogando os valores mais altos em um array para o topo conforme necessário.\n",
    "\n",
    "## O Pseudocódigo:\n",
    "\n",
    "• Criar uma lista alimentada por um gerador de numeros aleatórios de valores 1 à 10\n",
    "\n",
    "• Exibir os itens como foram gerados\n",
    "\n",
    "• Criar um laço de repetição que reposicione os itens da lista baseado no valor e na posição do laço\n",
    "\n",
    "• Exibir os itens reordenados"
   ]
  },
  {
   "cell_type": "code",
   "execution_count": 3,
   "id": "6e7acfd5-40ac-4b4d-88e9-c87154b56b22",
   "metadata": {},
   "outputs": [
    {
     "name": "stdout",
     "output_type": "stream",
     "text": [
      "[5, 2, 6, 3, 2, 8, 3, 7, 7, 4]\n",
      "[2, 2, 3, 3, 4, 5, 6, 7, 7, 8]\n"
     ]
    }
   ],
   "source": [
    "## imports random\n",
    "import random as rd\n",
    "list = []\n",
    "\n",
    "# cria uma lista e popula com valores aleatórios de 1 a 10:\n",
    "# um underline no lugar de index indicaria que a variável de contagem não é necessária.\n",
    "for _ in range(1, 11):\n",
    "\n",
    "    # o builder recebe um numero aleatório de 1 a 10\n",
    "    builder = rd.randint(1, 10)\n",
    "\n",
    "    # que em seguida é recebido pela lista \"list\"\n",
    "    list.append(builder)\n",
    "    \n",
    "    # logo depois, são exibidos os valores da lista:\n",
    "    print(list)\n",
    "    \n",
    "def bubble_sort(arr)\n",
    "    \n",
    "    # uma vez que a lista é populada, é necessário ordenar os objetos dentro dela.\n",
    "    # a lógica é que os objetos de maior valor são jogados pro final da lista.\n",
    "    for index in range(len(list)):\n",
    "        # ^ o primeiro laço percorre cada um dos índices da lista, do primeiro ao final,\n",
    "        for value in range(len(list) - 1 - index):\n",
    "            # ^ já o segundo laço \n",
    "            if list [value] > list [value + 1]:\n",
    "                list [value], list [value + 1] = list [value + 1], list [value]\n",
    "    \n",
    "    # por fim, exibe os valores da lista depois de ordenar\n",
    "    return arr"
   ]
  },
  {
   "cell_type": "code",
   "execution_count": null,
   "id": "c3c3f09f-d9da-45e7-94ff-864b987ea8a6",
   "metadata": {},
   "outputs": [],
   "source": []
  }
 ],
 "metadata": {
  "kernelspec": {
   "display_name": "Python 3 (ipykernel)",
   "language": "python",
   "name": "python3"
  },
  "language_info": {
   "codemirror_mode": {
    "name": "ipython",
    "version": 3
   },
   "file_extension": ".py",
   "mimetype": "text/x-python",
   "name": "python",
   "nbconvert_exporter": "python",
   "pygments_lexer": "ipython3",
   "version": "3.12.4"
  }
 },
 "nbformat": 4,
 "nbformat_minor": 5
}
