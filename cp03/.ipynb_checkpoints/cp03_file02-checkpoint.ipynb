{
 "cells": [
  {
   "cell_type": "markdown",
   "id": "dae2c127-b3ad-4af9-9979-4b82fd1c180e",
   "metadata": {},
   "source": [
    "A seguir, o segundo Pseudocódigo - o de uma calculadora, já convertido:"
   ]
  },
  {
   "cell_type": "code",
   "execution_count": 12,
   "id": "2617100b-8be3-48f2-84ed-98298f0ea753",
   "metadata": {},
   "outputs": [
    {
     "name": "stdout",
     "output_type": "stream",
     "text": [
      "Bem vindo à Calculadora!\n"
     ]
    },
    {
     "name": "stdin",
     "output_type": "stream",
     "text": [
      "Insira o primeiro valor:  10\n",
      "Insira o segundo valor:  2\n",
      "Especifique o tipo de operação (+, -, *, /):  /\n"
     ]
    },
    {
     "name": "stdout",
     "output_type": "stream",
     "text": [
      "Resultado da DIVISÃO:  5.0\n"
     ]
    }
   ],
   "source": [
    "print('Bem vindo à Calculadora!')\n",
    "\n",
    "valor01 = (float(input('Insira o primeiro valor: ')))\n",
    "## o usuário insere o primeiro valor da operação aqui.\n",
    "\n",
    "valor02 = (float(input('Insira o segundo valor: ')))\n",
    "## o usuário insere o segundo valor da operação aqui.\n",
    "\n",
    "operador = (input('Especifique o tipo de operação (+, -, *, /): '))\n",
    "## o usuário especifica a operação aqui. ela, então, é jogada em um MATCH:\n",
    "\n",
    "match operador:\n",
    "## o equivalente python ao SWITCH/CASE.\n",
    "    case '+':\n",
    "        ## cases continuam iguais,\n",
    "        print('Resultado da SOMA: ', valor01 + valor02)\n",
    "        ## ... mas não precisam de breaks!\n",
    "    case '-':\n",
    "        print('Resultado da SUBTRAÇÃO: ', valor01 - valor02)\n",
    "    case '*':\n",
    "        print('Resultado da MULTIPLICAÇÃO: ', valor01 * valor02)\n",
    "    case '/':\n",
    "        print('Resultado da DIVISÃO: ', valor01 / valor02)\n",
    "    case _:\n",
    "        print('O operador é inválido!')\n",
    "        "
   ]
  },
  {
   "cell_type": "code",
   "execution_count": null,
   "id": "03416dad-ff95-48d6-a8f4-08cb946a7531",
   "metadata": {},
   "outputs": [],
   "source": []
  }
 ],
 "metadata": {
  "kernelspec": {
   "display_name": "Python 3 (ipykernel)",
   "language": "python",
   "name": "python3"
  },
  "language_info": {
   "codemirror_mode": {
    "name": "ipython",
    "version": 3
   },
   "file_extension": ".py",
   "mimetype": "text/x-python",
   "name": "python",
   "nbconvert_exporter": "python",
   "pygments_lexer": "ipython3",
   "version": "3.12.4"
  }
 },
 "nbformat": 4,
 "nbformat_minor": 5
}
