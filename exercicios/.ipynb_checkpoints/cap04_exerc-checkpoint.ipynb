{
 "cells": [
  {
   "cell_type": "code",
   "execution_count": null,
   "id": "b70b61c0-48f0-408c-909b-6cf153b333da",
   "metadata": {},
   "outputs": [],
   "source": [
    "# Exercício 1 - Imprima na tela os números de 1 a 10. Use uma lista para armazenar os números."
   ]
  },
  {
   "cell_type": "code",
   "execution_count": 2,
   "id": "fa64a26f-640e-4334-af7a-0832217d4714",
   "metadata": {},
   "outputs": [
    {
     "data": {
      "text/plain": [
       "[1, 2, 3, 4, 5, 6, 7, 8, 9, 10]"
      ]
     },
     "execution_count": 2,
     "metadata": {},
     "output_type": "execute_result"
    }
   ],
   "source": [
    "array = [] # is a list, actually\n",
    "for i in range(1, 11):\n",
    "    array.append(i)\n",
    "\n",
    "array"
   ]
  },
  {
   "cell_type": "code",
   "execution_count": null,
   "id": "c764f413-f9fc-467d-a004-a5fa86a550ba",
   "metadata": {},
   "outputs": [],
   "source": [
    "# Exercício 2 - Crie uma lista de 5 objetos e imprima na tela"
   ]
  },
  {
   "cell_type": "code",
   "execution_count": 7,
   "id": "7cdb7bfe-47e4-46d7-9c9f-cfa69514f3b2",
   "metadata": {},
   "outputs": [
    {
     "name": "stdout",
     "output_type": "stream",
     "text": [
      "[['1 obj'], [2, 3], ['quatro objetos', 5.0]]\n",
      "['1 obj']\n",
      "[2, 3]\n",
      "['quatro objetos', 5.0]\n",
      "2\n",
      "5.0\n"
     ]
    }
   ],
   "source": [
    "list = [['1 obj'], [2, 3], ['quatro objetos', 5.0]]\n",
    "\n",
    "print(list)\n",
    "print(list[0])\n",
    "print(list[1])\n",
    "print(list[2])\n",
    "print(list[1][0])\n",
    "print(list[2][1])"
   ]
  },
  {
   "cell_type": "code",
   "execution_count": null,
   "id": "c12c934d-412f-4a18-8d14-03c5d74d1d18",
   "metadata": {},
   "outputs": [],
   "source": [
    "# Exercício 3 - Crie duas strings e concatene as duas em uma terceira string"
   ]
  },
  {
   "cell_type": "code",
   "execution_count": 8,
   "id": "59081826-8b31-4827-9499-7331c82a4a6a",
   "metadata": {},
   "outputs": [
    {
     "name": "stdout",
     "output_type": "stream",
     "text": [
      "Eu preciso de um emprego.\n"
     ]
    }
   ],
   "source": [
    "text1 = 'preciso'\n",
    "text2 = 'emprego'\n",
    "\n",
    "string1 = f'Eu {text1} de um {text2}.'\n",
    "\n",
    "print(string1)"
   ]
  },
  {
   "cell_type": "code",
   "execution_count": null,
   "id": "04600864-e0ce-4497-b631-844ecca72cc3",
   "metadata": {},
   "outputs": [],
   "source": [
    "# Exercício 4 - Crie uma tupla com os seguintes elementos: 1, 2, 2, 3, 4, 4, 4, 5\n",
    "# e depois utilize a função count do objeto tupla para verificar quantas vezes\n",
    "# o número 4 aparece na tupla"
   ]
  },
  {
   "cell_type": "code",
   "execution_count": 9,
   "id": "35d0a352-76ec-4d67-919c-aab93bf75d18",
   "metadata": {},
   "outputs": [
    {
     "data": {
      "text/plain": [
       "3"
      ]
     },
     "execution_count": 9,
     "metadata": {},
     "output_type": "execute_result"
    }
   ],
   "source": [
    "tuple1 = (1, 2, 2, 3, 4, 4, 4, 5)\n",
    "\n",
    "tuple1.count(4)"
   ]
  },
  {
   "cell_type": "code",
   "execution_count": null,
   "id": "5f3ecaff-5b64-46c8-840f-ad254b400c68",
   "metadata": {},
   "outputs": [],
   "source": [
    "# Exercício 5 - Crie um dicionário vazio e imprima na tela"
   ]
  },
  {
   "cell_type": "code",
   "execution_count": 12,
   "id": "a8a35350-816d-45ec-9124-827ad44c5acf",
   "metadata": {},
   "outputs": [
    {
     "data": {
      "text/plain": [
       "{}"
      ]
     },
     "execution_count": 12,
     "metadata": {},
     "output_type": "execute_result"
    }
   ],
   "source": [
    "dict1 = {}\n",
    "dict1"
   ]
  },
  {
   "cell_type": "code",
   "execution_count": null,
   "id": "fdf4094e-1b09-48a8-8c1f-27f4322e0a0f",
   "metadata": {},
   "outputs": [],
   "source": [
    "# Exercício 6 - Crie um dicionário com 3 chaves e 3 valores e imprima na tela"
   ]
  },
  {
   "cell_type": "code",
   "execution_count": 16,
   "id": "ce35f30f-8fff-464a-bef7-d6d6a75b3fde",
   "metadata": {},
   "outputs": [
    {
     "name": "stdout",
     "output_type": "stream",
     "text": [
      "value1\n",
      "value2\n",
      "value3\n"
     ]
    }
   ],
   "source": [
    "dict2 = {'key1': 'value1', 'key2': 'value2', 'key3': 'value3'}\n",
    "\n",
    "for i in range(1, 4):\n",
    "    print(dict2[f'key{i}'])"
   ]
  },
  {
   "cell_type": "code",
   "execution_count": null,
   "id": "a5f8e5f1-76ec-40a7-8e05-da79fae22c59",
   "metadata": {},
   "outputs": [],
   "source": [
    "# Exercício 7 - Adicione mais um elemento ao dicionário criado no exercício anterior e imprima na tela"
   ]
  },
  {
   "cell_type": "code",
   "execution_count": 18,
   "id": "38bf484c-19e1-4b54-9392-8803be3bee4d",
   "metadata": {},
   "outputs": [
    {
     "data": {
      "text/plain": [
       "{'key1': 'value1', 'key2': 'value2', 'key3': 'value3', 'key4': 'value4'}"
      ]
     },
     "execution_count": 18,
     "metadata": {},
     "output_type": "execute_result"
    }
   ],
   "source": [
    "dict2['key4'] = 'value4'\n",
    "\n",
    "dict2"
   ]
  },
  {
   "cell_type": "code",
   "execution_count": null,
   "id": "79d61735-ebae-4330-be94-8a8b5e7e778c",
   "metadata": {},
   "outputs": [],
   "source": [
    "# Exercício 8 - Crie um dicionário com 3 chaves e 3 valores. \n",
    "# Um dos valores deve ser uma lista de 2 elementos numéricos. \n",
    "# Imprima o dicionário na tela."
   ]
  },
  {
   "cell_type": "code",
   "execution_count": 22,
   "id": "f5165108-317d-4033-a6cc-b374f2542e9a",
   "metadata": {},
   "outputs": [
    {
     "data": {
      "text/plain": [
       "'k2value2'"
      ]
     },
     "execution_count": 22,
     "metadata": {},
     "output_type": "execute_result"
    }
   ],
   "source": [
    "dict3 = {'key1': 'value1', 'key2': ['k2value1', 'k2value2'], 'key3': 'value3'}\n",
    "\n",
    "dict3\n",
    "\n",
    "dict3['key2'][0]\n",
    "dict3['key2'][1]"
   ]
  },
  {
   "cell_type": "code",
   "execution_count": null,
   "id": "1d1d9e89-37b6-46b4-911f-9905f2bf0f5b",
   "metadata": {},
   "outputs": [],
   "source": [
    "# Exercício 9 - Crie uma lista de 4 elementos. O primeiro elemento deve ser uma string, \n",
    "# o segundo uma tupla de 2 elementos, o terceiro um dcionário com 2 chaves e 2 valores e \n",
    "# o quarto elemento um valor do tipo float.\n",
    "# Imprima a lista."
   ]
  },
  {
   "cell_type": "code",
   "execution_count": 28,
   "id": "b6333cd3-48d2-4301-b89c-499d3a6ad8ae",
   "metadata": {},
   "outputs": [
    {
     "name": "stdout",
     "output_type": "stream",
     "text": [
      "['string', ('tuple1 value1', 'tuple1 value2'), {'key1': 'value1', 'key2': 'value2'}, 4.4]\n",
      "('tuple1 value1', 'tuple1 value2')\n",
      "value2\n"
     ]
    }
   ],
   "source": [
    "list1 = ['string',\n",
    "         ('tuple1 value1','tuple1 value2'),\n",
    "         {'key1': 'value1', 'key2': 'value2'},\n",
    "         4.4]\n",
    "\n",
    "print(list1)\n",
    "print(list1[1])\n",
    "print(list1[2]['key2'])"
   ]
  },
  {
   "cell_type": "code",
   "execution_count": 30,
   "id": "e185918f-9237-4231-a0c5-dfba17025af7",
   "metadata": {},
   "outputs": [],
   "source": [
    "# Exercício 10 - Considere a string abaixo. Imprima na tela apenas os caracteres da posição 1 a 18.\n",
    "frase = 'Cientista de Dados é o profissional mais sexy do século XXI'"
   ]
  },
  {
   "cell_type": "code",
   "execution_count": 32,
   "id": "efcf21e6-c160-44df-adcf-f8a06dae4908",
   "metadata": {},
   "outputs": [
    {
     "data": {
      "text/plain": [
       "'ientista de Dados '"
      ]
     },
     "execution_count": 32,
     "metadata": {},
     "output_type": "execute_result"
    }
   ],
   "source": [
    "frase[0:19] # - Se \"posição 1\" for \"posição\"\n",
    "\n",
    "frase[1:19] # - Se \"posição 1\" for \"índice\""
   ]
  }
 ],
 "metadata": {
  "kernelspec": {
   "display_name": "Python 3 (ipykernel)",
   "language": "python",
   "name": "python3"
  },
  "language_info": {
   "codemirror_mode": {
    "name": "ipython",
    "version": 3
   },
   "file_extension": ".py",
   "mimetype": "text/x-python",
   "name": "python",
   "nbconvert_exporter": "python",
   "pygments_lexer": "ipython3",
   "version": "3.12.4"
  }
 },
 "nbformat": 4,
 "nbformat_minor": 5
}
